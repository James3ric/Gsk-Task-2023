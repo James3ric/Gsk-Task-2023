{
 "cells": [
  {
   "cell_type": "markdown",
   "id": "88d8e28a",
   "metadata": {},
   "source": [
    "## Data Reading"
   ]
  },
  {
   "cell_type": "code",
   "execution_count": 1,
   "id": "25ec358c",
   "metadata": {},
   "outputs": [
    {
     "data": {
      "text/html": [
       "<div>\n",
       "<style scoped>\n",
       "    .dataframe tbody tr th:only-of-type {\n",
       "        vertical-align: middle;\n",
       "    }\n",
       "\n",
       "    .dataframe tbody tr th {\n",
       "        vertical-align: top;\n",
       "    }\n",
       "\n",
       "    .dataframe thead th {\n",
       "        text-align: right;\n",
       "    }\n",
       "</style>\n",
       "<table border=\"1\" class=\"dataframe\">\n",
       "  <thead>\n",
       "    <tr style=\"text-align: right;\">\n",
       "      <th></th>\n",
       "      <th>subject_id</th>\n",
       "      <th>age</th>\n",
       "      <th>sex</th>\n",
       "      <th>weight</th>\n",
       "      <th>height</th>\n",
       "      <th>trt_grp</th>\n",
       "      <th>RESPONSE</th>\n",
       "    </tr>\n",
       "  </thead>\n",
       "  <tbody>\n",
       "    <tr>\n",
       "      <th>0</th>\n",
       "      <td>SUBJ_001</td>\n",
       "      <td>46.000</td>\n",
       "      <td>Female</td>\n",
       "      <td>84.660</td>\n",
       "      <td>1.59000</td>\n",
       "      <td>DRUG</td>\n",
       "      <td>N</td>\n",
       "    </tr>\n",
       "    <tr>\n",
       "      <th>1</th>\n",
       "      <td>SUBJ_001</td>\n",
       "      <td>46.000</td>\n",
       "      <td>Female</td>\n",
       "      <td>84.660</td>\n",
       "      <td>1.59000</td>\n",
       "      <td>DRUG</td>\n",
       "      <td>N</td>\n",
       "    </tr>\n",
       "    <tr>\n",
       "      <th>2</th>\n",
       "      <td>SUBJ_002</td>\n",
       "      <td>47.000</td>\n",
       "      <td>Female</td>\n",
       "      <td>71.210</td>\n",
       "      <td>1.64000</td>\n",
       "      <td>DRUG</td>\n",
       "      <td>Y</td>\n",
       "    </tr>\n",
       "    <tr>\n",
       "      <th>3</th>\n",
       "      <td>SUBJ_003</td>\n",
       "      <td>48.000</td>\n",
       "      <td>Female</td>\n",
       "      <td>69.850</td>\n",
       "      <td>1.73000</td>\n",
       "      <td>CONTROL</td>\n",
       "      <td>N</td>\n",
       "    </tr>\n",
       "    <tr>\n",
       "      <th>4</th>\n",
       "      <td>SUBJ_004</td>\n",
       "      <td>59.000</td>\n",
       "      <td>Female</td>\n",
       "      <td>62.940</td>\n",
       "      <td>1.50000</td>\n",
       "      <td>DRUG</td>\n",
       "      <td>Y</td>\n",
       "    </tr>\n",
       "    <tr>\n",
       "      <th>...</th>\n",
       "      <td>...</td>\n",
       "      <td>...</td>\n",
       "      <td>...</td>\n",
       "      <td>...</td>\n",
       "      <td>...</td>\n",
       "      <td>...</td>\n",
       "      <td>...</td>\n",
       "    </tr>\n",
       "    <tr>\n",
       "      <th>767</th>\n",
       "      <td>SUBJ_767</td>\n",
       "      <td>53.000</td>\n",
       "      <td>Male</td>\n",
       "      <td>88.670</td>\n",
       "      <td>1.72000</td>\n",
       "      <td>DRUG</td>\n",
       "      <td>Y</td>\n",
       "    </tr>\n",
       "    <tr>\n",
       "      <th>768</th>\n",
       "      <td>SUBJ_768</td>\n",
       "      <td>68.000</td>\n",
       "      <td>Female</td>\n",
       "      <td>80.290</td>\n",
       "      <td>1.63000</td>\n",
       "      <td>DRUG</td>\n",
       "      <td>Y</td>\n",
       "    </tr>\n",
       "    <tr>\n",
       "      <th>769</th>\n",
       "      <td>SUBJ_A69</td>\n",
       "      <td>7.200</td>\n",
       "      <td>Female</td>\n",
       "      <td>22.310</td>\n",
       "      <td>1.19300</td>\n",
       "      <td>DRUG</td>\n",
       "      <td>N</td>\n",
       "    </tr>\n",
       "    <tr>\n",
       "      <th>770</th>\n",
       "      <td>SUBJ_A70</td>\n",
       "      <td>8.310</td>\n",
       "      <td>Female</td>\n",
       "      <td>24.220</td>\n",
       "      <td>1.27440</td>\n",
       "      <td>CONTROL</td>\n",
       "      <td>N</td>\n",
       "    </tr>\n",
       "    <tr>\n",
       "      <th>771</th>\n",
       "      <td>SUBJ_A71</td>\n",
       "      <td>7.854</td>\n",
       "      <td>Male</td>\n",
       "      <td>23.176</td>\n",
       "      <td>1.26343</td>\n",
       "      <td>CONTROL</td>\n",
       "      <td>N</td>\n",
       "    </tr>\n",
       "  </tbody>\n",
       "</table>\n",
       "<p>772 rows × 7 columns</p>\n",
       "</div>"
      ],
      "text/plain": [
       "    subject_id     age     sex  weight   height  trt_grp RESPONSE\n",
       "0     SUBJ_001  46.000  Female  84.660  1.59000     DRUG        N\n",
       "1     SUBJ_001  46.000  Female  84.660  1.59000     DRUG        N\n",
       "2     SUBJ_002  47.000  Female  71.210  1.64000     DRUG        Y\n",
       "3     SUBJ_003  48.000  Female  69.850  1.73000  CONTROL        N\n",
       "4     SUBJ_004  59.000  Female  62.940  1.50000     DRUG        Y\n",
       "..         ...     ...     ...     ...      ...      ...      ...\n",
       "767   SUBJ_767  53.000    Male  88.670  1.72000     DRUG        Y\n",
       "768   SUBJ_768  68.000  Female  80.290  1.63000     DRUG        Y\n",
       "769   SUBJ_A69   7.200  Female  22.310  1.19300     DRUG        N\n",
       "770   SUBJ_A70   8.310  Female  24.220  1.27440  CONTROL        N\n",
       "771   SUBJ_A71   7.854    Male  23.176  1.26343  CONTROL        N\n",
       "\n",
       "[772 rows x 7 columns]"
      ]
     },
     "execution_count": 1,
     "metadata": {},
     "output_type": "execute_result"
    }
   ],
   "source": [
    "# importing necessary libraries\n",
    "import pandas as pd\n",
    "import numpy as np\n",
    "\n",
    "clinical_dataset = pd.read_excel(\"C:/Users/James/OneDrive/Desktop/wetransfer_clinical-study-xlsx_2023-05-16_1215/clinical-study.xlsx\")\n",
    "clinical_dataset"
   ]
  },
  {
   "cell_type": "code",
   "execution_count": 2,
   "id": "4fc4e525",
   "metadata": {},
   "outputs": [
    {
     "data": {
      "text/html": [
       "<div>\n",
       "<style scoped>\n",
       "    .dataframe tbody tr th:only-of-type {\n",
       "        vertical-align: middle;\n",
       "    }\n",
       "\n",
       "    .dataframe tbody tr th {\n",
       "        vertical-align: top;\n",
       "    }\n",
       "\n",
       "    .dataframe thead th {\n",
       "        text-align: right;\n",
       "    }\n",
       "</style>\n",
       "<table border=\"1\" class=\"dataframe\">\n",
       "  <thead>\n",
       "    <tr style=\"text-align: right;\">\n",
       "      <th></th>\n",
       "      <th>participant_id</th>\n",
       "      <th>protein_concentration</th>\n",
       "    </tr>\n",
       "  </thead>\n",
       "  <tbody>\n",
       "    <tr>\n",
       "      <th>0</th>\n",
       "      <td>SUBJ_001</td>\n",
       "      <td>148.0</td>\n",
       "    </tr>\n",
       "    <tr>\n",
       "      <th>1</th>\n",
       "      <td>SUBJ_002</td>\n",
       "      <td>85.0</td>\n",
       "    </tr>\n",
       "    <tr>\n",
       "      <th>2</th>\n",
       "      <td>SUBJ_003</td>\n",
       "      <td>183.0</td>\n",
       "    </tr>\n",
       "    <tr>\n",
       "      <th>3</th>\n",
       "      <td>SUBJ_004</td>\n",
       "      <td>89.0</td>\n",
       "    </tr>\n",
       "    <tr>\n",
       "      <th>4</th>\n",
       "      <td>SUBJ_005</td>\n",
       "      <td>137.0</td>\n",
       "    </tr>\n",
       "    <tr>\n",
       "      <th>...</th>\n",
       "      <td>...</td>\n",
       "      <td>...</td>\n",
       "    </tr>\n",
       "    <tr>\n",
       "      <th>763</th>\n",
       "      <td>SUBJ_764</td>\n",
       "      <td>101.0</td>\n",
       "    </tr>\n",
       "    <tr>\n",
       "      <th>764</th>\n",
       "      <td>SUBJ_765</td>\n",
       "      <td>122.0</td>\n",
       "    </tr>\n",
       "    <tr>\n",
       "      <th>765</th>\n",
       "      <td>SUBJ_766</td>\n",
       "      <td>121.0</td>\n",
       "    </tr>\n",
       "    <tr>\n",
       "      <th>766</th>\n",
       "      <td>SUBJ_767</td>\n",
       "      <td>126.0</td>\n",
       "    </tr>\n",
       "    <tr>\n",
       "      <th>767</th>\n",
       "      <td>SUBJ_768</td>\n",
       "      <td>93.0</td>\n",
       "    </tr>\n",
       "  </tbody>\n",
       "</table>\n",
       "<p>768 rows × 2 columns</p>\n",
       "</div>"
      ],
      "text/plain": [
       "    participant_id  protein_concentration\n",
       "0         SUBJ_001                  148.0\n",
       "1         SUBJ_002                   85.0\n",
       "2         SUBJ_003                  183.0\n",
       "3         SUBJ_004                   89.0\n",
       "4         SUBJ_005                  137.0\n",
       "..             ...                    ...\n",
       "763       SUBJ_764                  101.0\n",
       "764       SUBJ_765                  122.0\n",
       "765       SUBJ_766                  121.0\n",
       "766       SUBJ_767                  126.0\n",
       "767       SUBJ_768                   93.0\n",
       "\n",
       "[768 rows x 2 columns]"
      ]
     },
     "execution_count": 2,
     "metadata": {},
     "output_type": "execute_result"
    }
   ],
   "source": [
    "protein_dataset = pd.read_excel(\"C:/Users/James/OneDrive/Desktop/wetransfer_clinical-study-xlsx_2023-05-16_1215/protein-levels.xlsx\")\n",
    "protein_dataset"
   ]
  },
  {
   "cell_type": "markdown",
   "id": "b8660916",
   "metadata": {},
   "source": [
    "## Data Cleaning"
   ]
  },
  {
   "cell_type": "code",
   "execution_count": 3,
   "id": "5cb3263b",
   "metadata": {},
   "outputs": [
    {
     "name": "stdout",
     "output_type": "stream",
     "text": [
      "<class 'pandas.core.frame.DataFrame'>\n",
      "RangeIndex: 772 entries, 0 to 771\n",
      "Data columns (total 7 columns):\n",
      " #   Column      Non-Null Count  Dtype  \n",
      "---  ------      --------------  -----  \n",
      " 0   subject_id  772 non-null    object \n",
      " 1   age         772 non-null    float64\n",
      " 2   sex         772 non-null    object \n",
      " 3   weight      761 non-null    float64\n",
      " 4   height      772 non-null    float64\n",
      " 5   trt_grp     772 non-null    object \n",
      " 6   RESPONSE    772 non-null    object \n",
      "dtypes: float64(3), object(4)\n",
      "memory usage: 42.3+ KB\n"
     ]
    }
   ],
   "source": [
    "#checking information of the dataset \n",
    "clinical_dataset.info()"
   ]
  },
  {
   "cell_type": "code",
   "execution_count": 4,
   "id": "e57e55ed",
   "metadata": {},
   "outputs": [
    {
     "data": {
      "text/plain": [
       "array([46.   , 47.   , 48.   , 59.   , 63.   , 77.   , 57.   , 72.   ,\n",
       "       73.   , 67.   , 53.   , 58.   , 55.   , 65.   , 54.   , 51.   ,\n",
       "       61.   , 56.   , 64.   , 66.   , 69.   , 70.   , 49.   , 62.   ,\n",
       "       68.   , 71.   , 60.   , 52.   , 78.   , 79.   , 43.   , 44.   ,\n",
       "       76.   , 39.   , 74.   , 50.   , 45.   , 75.   , 37.   ,  7.2  ,\n",
       "        8.31 ,  7.854])"
      ]
     },
     "execution_count": 4,
     "metadata": {},
     "output_type": "execute_result"
    }
   ],
   "source": [
    "#checking information of the age column \n",
    "clinical_dataset[\"age\"].unique()"
   ]
  },
  {
   "cell_type": "code",
   "execution_count": 5,
   "id": "7c4cf6c4",
   "metadata": {},
   "outputs": [
    {
     "data": {
      "text/plain": [
       "count    772.000000\n",
       "mean      61.580782\n",
       "std        7.866491\n",
       "min        7.200000\n",
       "25%       57.000000\n",
       "50%       62.000000\n",
       "75%       67.000000\n",
       "max       79.000000\n",
       "Name: age, dtype: float64"
      ]
     },
     "execution_count": 5,
     "metadata": {},
     "output_type": "execute_result"
    }
   ],
   "source": [
    "#checking information of the age column \n",
    "clinical_dataset[\"age\"].describe()"
   ]
  },
  {
   "cell_type": "code",
   "execution_count": 6,
   "id": "67788c92",
   "metadata": {},
   "outputs": [
    {
     "data": {
      "text/html": [
       "<div>\n",
       "<style scoped>\n",
       "    .dataframe tbody tr th:only-of-type {\n",
       "        vertical-align: middle;\n",
       "    }\n",
       "\n",
       "    .dataframe tbody tr th {\n",
       "        vertical-align: top;\n",
       "    }\n",
       "\n",
       "    .dataframe thead th {\n",
       "        text-align: right;\n",
       "    }\n",
       "</style>\n",
       "<table border=\"1\" class=\"dataframe\">\n",
       "  <thead>\n",
       "    <tr style=\"text-align: right;\">\n",
       "      <th></th>\n",
       "      <th>subject_id</th>\n",
       "      <th>age</th>\n",
       "      <th>sex</th>\n",
       "      <th>weight</th>\n",
       "      <th>height</th>\n",
       "      <th>trt_grp</th>\n",
       "      <th>RESPONSE</th>\n",
       "    </tr>\n",
       "  </thead>\n",
       "  <tbody>\n",
       "    <tr>\n",
       "      <th>769</th>\n",
       "      <td>SUBJ_A69</td>\n",
       "      <td>7.2</td>\n",
       "      <td>Female</td>\n",
       "      <td>22.31</td>\n",
       "      <td>1.193</td>\n",
       "      <td>DRUG</td>\n",
       "      <td>N</td>\n",
       "    </tr>\n",
       "  </tbody>\n",
       "</table>\n",
       "</div>"
      ],
      "text/plain": [
       "    subject_id  age     sex  weight  height trt_grp RESPONSE\n",
       "769   SUBJ_A69  7.2  Female   22.31   1.193    DRUG        N"
      ]
     },
     "execution_count": 6,
     "metadata": {},
     "output_type": "execute_result"
    }
   ],
   "source": [
    "# looking up a row in the age column\n",
    "clinical_dataset[(clinical_dataset[\"age\"] == 7.2)]"
   ]
  },
  {
   "cell_type": "code",
   "execution_count": 7,
   "id": "2fc0bb58",
   "metadata": {},
   "outputs": [],
   "source": [
    "# deleting a row in the age column\n",
    "clinical_dataset = clinical_dataset.drop(769)"
   ]
  },
  {
   "cell_type": "code",
   "execution_count": 8,
   "id": "802dba48",
   "metadata": {},
   "outputs": [
    {
     "name": "stdout",
     "output_type": "stream",
     "text": [
      "<class 'pandas.core.frame.DataFrame'>\n",
      "Int64Index: 771 entries, 0 to 771\n",
      "Data columns (total 7 columns):\n",
      " #   Column      Non-Null Count  Dtype  \n",
      "---  ------      --------------  -----  \n",
      " 0   subject_id  771 non-null    object \n",
      " 1   age         771 non-null    float64\n",
      " 2   sex         771 non-null    object \n",
      " 3   weight      760 non-null    float64\n",
      " 4   height      771 non-null    float64\n",
      " 5   trt_grp     771 non-null    object \n",
      " 6   RESPONSE    771 non-null    object \n",
      "dtypes: float64(3), object(4)\n",
      "memory usage: 48.2+ KB\n"
     ]
    }
   ],
   "source": [
    "#checking information of the dataset \n",
    "clinical_dataset.info()"
   ]
  },
  {
   "cell_type": "code",
   "execution_count": 9,
   "id": "bdb5ce59",
   "metadata": {},
   "outputs": [
    {
     "data": {
      "text/html": [
       "<div>\n",
       "<style scoped>\n",
       "    .dataframe tbody tr th:only-of-type {\n",
       "        vertical-align: middle;\n",
       "    }\n",
       "\n",
       "    .dataframe tbody tr th {\n",
       "        vertical-align: top;\n",
       "    }\n",
       "\n",
       "    .dataframe thead th {\n",
       "        text-align: right;\n",
       "    }\n",
       "</style>\n",
       "<table border=\"1\" class=\"dataframe\">\n",
       "  <thead>\n",
       "    <tr style=\"text-align: right;\">\n",
       "      <th></th>\n",
       "      <th>subject_id</th>\n",
       "      <th>age</th>\n",
       "      <th>sex</th>\n",
       "      <th>weight</th>\n",
       "      <th>height</th>\n",
       "      <th>trt_grp</th>\n",
       "      <th>RESPONSE</th>\n",
       "    </tr>\n",
       "  </thead>\n",
       "  <tbody>\n",
       "    <tr>\n",
       "      <th>770</th>\n",
       "      <td>SUBJ_A70</td>\n",
       "      <td>8.31</td>\n",
       "      <td>Female</td>\n",
       "      <td>24.22</td>\n",
       "      <td>1.2744</td>\n",
       "      <td>CONTROL</td>\n",
       "      <td>N</td>\n",
       "    </tr>\n",
       "  </tbody>\n",
       "</table>\n",
       "</div>"
      ],
      "text/plain": [
       "    subject_id   age     sex  weight  height  trt_grp RESPONSE\n",
       "770   SUBJ_A70  8.31  Female   24.22  1.2744  CONTROL        N"
      ]
     },
     "execution_count": 9,
     "metadata": {},
     "output_type": "execute_result"
    }
   ],
   "source": [
    "# looking up a row in the age column\n",
    "clinical_dataset[(clinical_dataset[\"age\"] == 8.31)]"
   ]
  },
  {
   "cell_type": "code",
   "execution_count": 10,
   "id": "77be93bd",
   "metadata": {},
   "outputs": [],
   "source": [
    "# deleting a row in the age column\n",
    "clinical_dataset = clinical_dataset.drop(770)"
   ]
  },
  {
   "cell_type": "code",
   "execution_count": 11,
   "id": "8fcf4d5b",
   "metadata": {},
   "outputs": [
    {
     "data": {
      "text/html": [
       "<div>\n",
       "<style scoped>\n",
       "    .dataframe tbody tr th:only-of-type {\n",
       "        vertical-align: middle;\n",
       "    }\n",
       "\n",
       "    .dataframe tbody tr th {\n",
       "        vertical-align: top;\n",
       "    }\n",
       "\n",
       "    .dataframe thead th {\n",
       "        text-align: right;\n",
       "    }\n",
       "</style>\n",
       "<table border=\"1\" class=\"dataframe\">\n",
       "  <thead>\n",
       "    <tr style=\"text-align: right;\">\n",
       "      <th></th>\n",
       "      <th>subject_id</th>\n",
       "      <th>age</th>\n",
       "      <th>sex</th>\n",
       "      <th>weight</th>\n",
       "      <th>height</th>\n",
       "      <th>trt_grp</th>\n",
       "      <th>RESPONSE</th>\n",
       "    </tr>\n",
       "  </thead>\n",
       "  <tbody>\n",
       "    <tr>\n",
       "      <th>771</th>\n",
       "      <td>SUBJ_A71</td>\n",
       "      <td>7.854</td>\n",
       "      <td>Male</td>\n",
       "      <td>23.176</td>\n",
       "      <td>1.26343</td>\n",
       "      <td>CONTROL</td>\n",
       "      <td>N</td>\n",
       "    </tr>\n",
       "  </tbody>\n",
       "</table>\n",
       "</div>"
      ],
      "text/plain": [
       "    subject_id    age   sex  weight   height  trt_grp RESPONSE\n",
       "771   SUBJ_A71  7.854  Male  23.176  1.26343  CONTROL        N"
      ]
     },
     "execution_count": 11,
     "metadata": {},
     "output_type": "execute_result"
    }
   ],
   "source": [
    "clinical_dataset[(clinical_dataset[\"age\"] == 7.854)]"
   ]
  },
  {
   "cell_type": "code",
   "execution_count": 12,
   "id": "0974b423",
   "metadata": {},
   "outputs": [],
   "source": [
    "# deleting a row in the age column\n",
    "clinical_dataset = clinical_dataset.drop(771)"
   ]
  },
  {
   "cell_type": "code",
   "execution_count": 13,
   "id": "7c759258",
   "metadata": {},
   "outputs": [
    {
     "data": {
      "text/plain": [
       "array([46., 47., 48., 59., 63., 77., 57., 72., 73., 67., 53., 58., 55.,\n",
       "       65., 54., 51., 61., 56., 64., 66., 69., 70., 49., 62., 68., 71.,\n",
       "       60., 52., 78., 79., 43., 44., 76., 39., 74., 50., 45., 75., 37.])"
      ]
     },
     "execution_count": 13,
     "metadata": {},
     "output_type": "execute_result"
    }
   ],
   "source": [
    "#checking information of the age column \n",
    "clinical_dataset[\"age\"].unique()"
   ]
  },
  {
   "cell_type": "code",
   "execution_count": 14,
   "id": "58e760c1",
   "metadata": {},
   "outputs": [],
   "source": [
    "#changing the data type of the column\n",
    "clinical_dataset[\"age\"] = clinical_dataset[\"age\"].astype(int)"
   ]
  },
  {
   "cell_type": "code",
   "execution_count": 15,
   "id": "e60b26cf",
   "metadata": {},
   "outputs": [
    {
     "data": {
      "text/plain": [
       "array([46, 47, 48, 59, 63, 77, 57, 72, 73, 67, 53, 58, 55, 65, 54, 51, 61,\n",
       "       56, 64, 66, 69, 70, 49, 62, 68, 71, 60, 52, 78, 79, 43, 44, 76, 39,\n",
       "       74, 50, 45, 75, 37])"
      ]
     },
     "execution_count": 15,
     "metadata": {},
     "output_type": "execute_result"
    }
   ],
   "source": [
    "#checking information of the age column \n",
    "clinical_dataset[\"age\"].unique()"
   ]
  },
  {
   "cell_type": "code",
   "execution_count": 16,
   "id": "a2121bd7",
   "metadata": {},
   "outputs": [
    {
     "data": {
      "text/plain": [
       "subject_id     0\n",
       "age            0\n",
       "sex            0\n",
       "weight        11\n",
       "height         0\n",
       "trt_grp        0\n",
       "RESPONSE       0\n",
       "dtype: int64"
      ]
     },
     "execution_count": 16,
     "metadata": {},
     "output_type": "execute_result"
    }
   ],
   "source": [
    "#checking for null values \n",
    "clinical_dataset.isna().sum()"
   ]
  },
  {
   "cell_type": "code",
   "execution_count": 17,
   "id": "6818bdcd",
   "metadata": {},
   "outputs": [
    {
     "data": {
      "text/html": [
       "<div>\n",
       "<style scoped>\n",
       "    .dataframe tbody tr th:only-of-type {\n",
       "        vertical-align: middle;\n",
       "    }\n",
       "\n",
       "    .dataframe tbody tr th {\n",
       "        vertical-align: top;\n",
       "    }\n",
       "\n",
       "    .dataframe thead th {\n",
       "        text-align: right;\n",
       "    }\n",
       "</style>\n",
       "<table border=\"1\" class=\"dataframe\">\n",
       "  <thead>\n",
       "    <tr style=\"text-align: right;\">\n",
       "      <th></th>\n",
       "      <th>subject_id</th>\n",
       "      <th>age</th>\n",
       "      <th>sex</th>\n",
       "      <th>weight</th>\n",
       "      <th>height</th>\n",
       "      <th>trt_grp</th>\n",
       "      <th>RESPONSE</th>\n",
       "    </tr>\n",
       "  </thead>\n",
       "  <tbody>\n",
       "    <tr>\n",
       "      <th>10</th>\n",
       "      <td>SUBJ_010</td>\n",
       "      <td>73</td>\n",
       "      <td>Female</td>\n",
       "      <td>NaN</td>\n",
       "      <td>1.64</td>\n",
       "      <td>DRUG</td>\n",
       "      <td>Y</td>\n",
       "    </tr>\n",
       "    <tr>\n",
       "      <th>50</th>\n",
       "      <td>SUBJ_050</td>\n",
       "      <td>65</td>\n",
       "      <td>Male</td>\n",
       "      <td>NaN</td>\n",
       "      <td>1.71</td>\n",
       "      <td>DRUG</td>\n",
       "      <td>N</td>\n",
       "    </tr>\n",
       "    <tr>\n",
       "      <th>61</th>\n",
       "      <td>SUBJ_061</td>\n",
       "      <td>61</td>\n",
       "      <td>Male</td>\n",
       "      <td>NaN</td>\n",
       "      <td>1.79</td>\n",
       "      <td>CONTROL</td>\n",
       "      <td>N</td>\n",
       "    </tr>\n",
       "    <tr>\n",
       "      <th>82</th>\n",
       "      <td>SUBJ_082</td>\n",
       "      <td>65</td>\n",
       "      <td>Male</td>\n",
       "      <td>NaN</td>\n",
       "      <td>1.78</td>\n",
       "      <td>CONTROL</td>\n",
       "      <td>N</td>\n",
       "    </tr>\n",
       "    <tr>\n",
       "      <th>146</th>\n",
       "      <td>SUBJ_146</td>\n",
       "      <td>56</td>\n",
       "      <td>Female</td>\n",
       "      <td>NaN</td>\n",
       "      <td>1.57</td>\n",
       "      <td>CONTROL</td>\n",
       "      <td>N</td>\n",
       "    </tr>\n",
       "    <tr>\n",
       "      <th>372</th>\n",
       "      <td>SUBJ_372</td>\n",
       "      <td>67</td>\n",
       "      <td>Female</td>\n",
       "      <td>NaN</td>\n",
       "      <td>1.62</td>\n",
       "      <td>CONTROL</td>\n",
       "      <td>N</td>\n",
       "    </tr>\n",
       "    <tr>\n",
       "      <th>427</th>\n",
       "      <td>SUBJ_427</td>\n",
       "      <td>66</td>\n",
       "      <td>Male</td>\n",
       "      <td>NaN</td>\n",
       "      <td>1.83</td>\n",
       "      <td>CONTROL</td>\n",
       "      <td>N</td>\n",
       "    </tr>\n",
       "    <tr>\n",
       "      <th>495</th>\n",
       "      <td>SUBJ_495</td>\n",
       "      <td>60</td>\n",
       "      <td>Female</td>\n",
       "      <td>NaN</td>\n",
       "      <td>1.65</td>\n",
       "      <td>CONTROL</td>\n",
       "      <td>N</td>\n",
       "    </tr>\n",
       "    <tr>\n",
       "      <th>523</th>\n",
       "      <td>SUBJ_523</td>\n",
       "      <td>62</td>\n",
       "      <td>Female</td>\n",
       "      <td>NaN</td>\n",
       "      <td>1.60</td>\n",
       "      <td>DRUG</td>\n",
       "      <td>N</td>\n",
       "    </tr>\n",
       "    <tr>\n",
       "      <th>685</th>\n",
       "      <td>SUBJ_685</td>\n",
       "      <td>74</td>\n",
       "      <td>Male</td>\n",
       "      <td>NaN</td>\n",
       "      <td>1.81</td>\n",
       "      <td>CONTROL</td>\n",
       "      <td>N</td>\n",
       "    </tr>\n",
       "    <tr>\n",
       "      <th>707</th>\n",
       "      <td>SUBJ_707</td>\n",
       "      <td>72</td>\n",
       "      <td>Male</td>\n",
       "      <td>NaN</td>\n",
       "      <td>1.75</td>\n",
       "      <td>DRUG</td>\n",
       "      <td>Y</td>\n",
       "    </tr>\n",
       "  </tbody>\n",
       "</table>\n",
       "</div>"
      ],
      "text/plain": [
       "    subject_id  age     sex  weight  height  trt_grp RESPONSE\n",
       "10    SUBJ_010   73  Female     NaN    1.64     DRUG        Y\n",
       "50    SUBJ_050   65    Male     NaN    1.71     DRUG        N\n",
       "61    SUBJ_061   61    Male     NaN    1.79  CONTROL        N\n",
       "82    SUBJ_082   65    Male     NaN    1.78  CONTROL        N\n",
       "146   SUBJ_146   56  Female     NaN    1.57  CONTROL        N\n",
       "372   SUBJ_372   67  Female     NaN    1.62  CONTROL        N\n",
       "427   SUBJ_427   66    Male     NaN    1.83  CONTROL        N\n",
       "495   SUBJ_495   60  Female     NaN    1.65  CONTROL        N\n",
       "523   SUBJ_523   62  Female     NaN    1.60     DRUG        N\n",
       "685   SUBJ_685   74    Male     NaN    1.81  CONTROL        N\n",
       "707   SUBJ_707   72    Male     NaN    1.75     DRUG        Y"
      ]
     },
     "execution_count": 17,
     "metadata": {},
     "output_type": "execute_result"
    }
   ],
   "source": [
    "#Displaying Nan Values\n",
    "clinical_dataset[clinical_dataset[\"weight\"].isna()]"
   ]
  },
  {
   "cell_type": "code",
   "execution_count": 18,
   "id": "31155798",
   "metadata": {},
   "outputs": [
    {
     "data": {
      "text/html": [
       "<div>\n",
       "<style scoped>\n",
       "    .dataframe tbody tr th:only-of-type {\n",
       "        vertical-align: middle;\n",
       "    }\n",
       "\n",
       "    .dataframe tbody tr th {\n",
       "        vertical-align: top;\n",
       "    }\n",
       "\n",
       "    .dataframe thead th {\n",
       "        text-align: right;\n",
       "    }\n",
       "</style>\n",
       "<table border=\"1\" class=\"dataframe\">\n",
       "  <thead>\n",
       "    <tr style=\"text-align: right;\">\n",
       "      <th></th>\n",
       "      <th>subject_id</th>\n",
       "      <th>age</th>\n",
       "      <th>sex</th>\n",
       "      <th>weight</th>\n",
       "      <th>height</th>\n",
       "      <th>trt_grp</th>\n",
       "      <th>RESPONSE</th>\n",
       "    </tr>\n",
       "  </thead>\n",
       "  <tbody>\n",
       "    <tr>\n",
       "      <th>10</th>\n",
       "      <td>SUBJ_010</td>\n",
       "      <td>73</td>\n",
       "      <td>Female</td>\n",
       "      <td>NaN</td>\n",
       "      <td>1.64</td>\n",
       "      <td>DRUG</td>\n",
       "      <td>Y</td>\n",
       "    </tr>\n",
       "    <tr>\n",
       "      <th>20</th>\n",
       "      <td>SUBJ_020</td>\n",
       "      <td>73</td>\n",
       "      <td>Female</td>\n",
       "      <td>94.38</td>\n",
       "      <td>1.65</td>\n",
       "      <td>DRUG</td>\n",
       "      <td>Y</td>\n",
       "    </tr>\n",
       "    <tr>\n",
       "      <th>118</th>\n",
       "      <td>SUBJ_118</td>\n",
       "      <td>73</td>\n",
       "      <td>Female</td>\n",
       "      <td>86.98</td>\n",
       "      <td>1.61</td>\n",
       "      <td>CONTROL</td>\n",
       "      <td>N</td>\n",
       "    </tr>\n",
       "    <tr>\n",
       "      <th>258</th>\n",
       "      <td>SUBJ_258</td>\n",
       "      <td>73</td>\n",
       "      <td>Female</td>\n",
       "      <td>68.56</td>\n",
       "      <td>1.55</td>\n",
       "      <td>DRUG</td>\n",
       "      <td>Y</td>\n",
       "    </tr>\n",
       "    <tr>\n",
       "      <th>265</th>\n",
       "      <td>SUBJ_265</td>\n",
       "      <td>73</td>\n",
       "      <td>Female</td>\n",
       "      <td>80.99</td>\n",
       "      <td>1.59</td>\n",
       "      <td>DRUG</td>\n",
       "      <td>N</td>\n",
       "    </tr>\n",
       "  </tbody>\n",
       "</table>\n",
       "</div>"
      ],
      "text/plain": [
       "    subject_id  age     sex  weight  height  trt_grp RESPONSE\n",
       "10    SUBJ_010   73  Female     NaN    1.64     DRUG        Y\n",
       "20    SUBJ_020   73  Female   94.38    1.65     DRUG        Y\n",
       "118   SUBJ_118   73  Female   86.98    1.61  CONTROL        N\n",
       "258   SUBJ_258   73  Female   68.56    1.55     DRUG        Y\n",
       "265   SUBJ_265   73  Female   80.99    1.59     DRUG        N"
      ]
     },
     "execution_count": 18,
     "metadata": {},
     "output_type": "execute_result"
    }
   ],
   "source": [
    "# Displaying the group of patients aged 73 \n",
    "clinical_dataset[(clinical_dataset[\"age\"] == 73) & (clinical_dataset[\"sex\"] == \"Female\" )]"
   ]
  },
  {
   "cell_type": "code",
   "execution_count": 19,
   "id": "e7b73d40",
   "metadata": {},
   "outputs": [
    {
     "name": "stderr",
     "output_type": "stream",
     "text": [
      "C:\\Users\\James\\AppData\\Local\\Temp\\ipykernel_9712\\3400160153.py:2: FutureWarning: The default value of numeric_only in DataFrame.mean is deprecated. In a future version, it will default to False. In addition, specifying 'numeric_only=None' is deprecated. Select only valid columns or specify the value of numeric_only to silence this warning.\n",
      "  clinical_dataset[(clinical_dataset[\"age\"] == 73) & (clinical_dataset[\"sex\"] == \"Female\")].mean()\n"
     ]
    },
    {
     "data": {
      "text/plain": [
       "age       73.0000\n",
       "weight    82.7275\n",
       "height     1.6080\n",
       "dtype: float64"
      ]
     },
     "execution_count": 19,
     "metadata": {},
     "output_type": "execute_result"
    }
   ],
   "source": [
    "# Displaying the group of patients aged 73\n",
    "clinical_dataset[(clinical_dataset[\"age\"] == 73) & (clinical_dataset[\"sex\"] == \"Female\")].mean()"
   ]
  },
  {
   "cell_type": "code",
   "execution_count": 20,
   "id": "56fc457a",
   "metadata": {},
   "outputs": [],
   "source": [
    "#Replacing the Nan values individually\n",
    "clinical_dataset.at[10,\"weight\"] =  83.863"
   ]
  },
  {
   "cell_type": "markdown",
   "id": "815bb6f6",
   "metadata": {},
   "source": [
    "I used the mean of the groups of female patients aged 73 to replace the nan value and doing the same for the remainig nan values"
   ]
  },
  {
   "cell_type": "code",
   "execution_count": 21,
   "id": "761300eb",
   "metadata": {},
   "outputs": [
    {
     "name": "stderr",
     "output_type": "stream",
     "text": [
      "C:\\Users\\James\\AppData\\Local\\Temp\\ipykernel_9712\\3343773379.py:2: FutureWarning: The default value of numeric_only in DataFrame.mean is deprecated. In a future version, it will default to False. In addition, specifying 'numeric_only=None' is deprecated. Select only valid columns or specify the value of numeric_only to silence this warning.\n",
      "  clinical_dataset[(clinical_dataset[\"age\"] == 65) & (clinical_dataset[\"sex\"] == \"Male\")].mean()\n"
     ]
    },
    {
     "data": {
      "text/plain": [
       "age       65.000000\n",
       "weight    99.276471\n",
       "height     1.744211\n",
       "dtype: float64"
      ]
     },
     "execution_count": 21,
     "metadata": {},
     "output_type": "execute_result"
    }
   ],
   "source": [
    "# Displaying the group of patients aged 65\n",
    "clinical_dataset[(clinical_dataset[\"age\"] == 65) & (clinical_dataset[\"sex\"] == \"Male\")].mean()"
   ]
  },
  {
   "cell_type": "code",
   "execution_count": 22,
   "id": "52c6b9e0",
   "metadata": {},
   "outputs": [],
   "source": [
    "#Replacing the Nan values individually\n",
    "clinical_dataset.at[50,\"weight\"] = 99.276471"
   ]
  },
  {
   "cell_type": "code",
   "execution_count": 23,
   "id": "bc3ed3df",
   "metadata": {},
   "outputs": [
    {
     "name": "stderr",
     "output_type": "stream",
     "text": [
      "C:\\Users\\James\\AppData\\Local\\Temp\\ipykernel_9712\\1356158029.py:2: FutureWarning: The default value of numeric_only in DataFrame.mean is deprecated. In a future version, it will default to False. In addition, specifying 'numeric_only=None' is deprecated. Select only valid columns or specify the value of numeric_only to silence this warning.\n",
      "  clinical_dataset[(clinical_dataset[\"age\"] == 61) & (clinical_dataset[\"sex\"] == \"Male\")].mean()\n"
     ]
    },
    {
     "data": {
      "text/plain": [
       "age        61.00000\n",
       "weight    103.72875\n",
       "height      1.75200\n",
       "dtype: float64"
      ]
     },
     "execution_count": 23,
     "metadata": {},
     "output_type": "execute_result"
    }
   ],
   "source": [
    "# Displaying the group of patients aged 61\n",
    "clinical_dataset[(clinical_dataset[\"age\"] == 61) & (clinical_dataset[\"sex\"] == \"Male\")].mean()"
   ]
  },
  {
   "cell_type": "code",
   "execution_count": 24,
   "id": "3e374df9",
   "metadata": {},
   "outputs": [],
   "source": [
    "#Replacing the Nan values individually\n",
    "clinical_dataset.at[61,\"weight\"] = 103.72875"
   ]
  },
  {
   "cell_type": "code",
   "execution_count": 25,
   "id": "4cde1a5e",
   "metadata": {},
   "outputs": [
    {
     "name": "stderr",
     "output_type": "stream",
     "text": [
      "C:\\Users\\James\\AppData\\Local\\Temp\\ipykernel_9712\\3343773379.py:2: FutureWarning: The default value of numeric_only in DataFrame.mean is deprecated. In a future version, it will default to False. In addition, specifying 'numeric_only=None' is deprecated. Select only valid columns or specify the value of numeric_only to silence this warning.\n",
      "  clinical_dataset[(clinical_dataset[\"age\"] == 65) & (clinical_dataset[\"sex\"] == \"Male\")].mean()\n"
     ]
    },
    {
     "data": {
      "text/plain": [
       "age       65.000000\n",
       "weight    99.276471\n",
       "height     1.744211\n",
       "dtype: float64"
      ]
     },
     "execution_count": 25,
     "metadata": {},
     "output_type": "execute_result"
    }
   ],
   "source": [
    "# Displaying the group of patients aged 65\n",
    "clinical_dataset[(clinical_dataset[\"age\"] == 65) & (clinical_dataset[\"sex\"] == \"Male\")].mean()"
   ]
  },
  {
   "cell_type": "code",
   "execution_count": 26,
   "id": "6dedfe6b",
   "metadata": {},
   "outputs": [],
   "source": [
    "#Replacing the Nan values individually\n",
    "clinical_dataset.at[82,\"weight\"] = 99.276471"
   ]
  },
  {
   "cell_type": "code",
   "execution_count": 27,
   "id": "4731e108",
   "metadata": {},
   "outputs": [
    {
     "name": "stderr",
     "output_type": "stream",
     "text": [
      "C:\\Users\\James\\AppData\\Local\\Temp\\ipykernel_9712\\1152700976.py:2: FutureWarning: The default value of numeric_only in DataFrame.mean is deprecated. In a future version, it will default to False. In addition, specifying 'numeric_only=None' is deprecated. Select only valid columns or specify the value of numeric_only to silence this warning.\n",
      "  clinical_dataset[(clinical_dataset[\"age\"] == 56) & (clinical_dataset[\"sex\"] == \"Female\")].mean()\n"
     ]
    },
    {
     "data": {
      "text/plain": [
       "age       56.000000\n",
       "weight    88.405000\n",
       "height     1.602174\n",
       "dtype: float64"
      ]
     },
     "execution_count": 27,
     "metadata": {},
     "output_type": "execute_result"
    }
   ],
   "source": [
    "# Displaying the group of patients aged 56\n",
    "clinical_dataset[(clinical_dataset[\"age\"] == 56) & (clinical_dataset[\"sex\"] == \"Female\")].mean()"
   ]
  },
  {
   "cell_type": "code",
   "execution_count": 28,
   "id": "cad52606",
   "metadata": {},
   "outputs": [],
   "source": [
    "#Replacing the Nan values individually\n",
    "clinical_dataset.at[146,\"weight\"] = 88.405000"
   ]
  },
  {
   "cell_type": "code",
   "execution_count": 29,
   "id": "f319abed",
   "metadata": {},
   "outputs": [
    {
     "name": "stderr",
     "output_type": "stream",
     "text": [
      "C:\\Users\\James\\AppData\\Local\\Temp\\ipykernel_9712\\3718369951.py:2: FutureWarning: The default value of numeric_only in DataFrame.mean is deprecated. In a future version, it will default to False. In addition, specifying 'numeric_only=None' is deprecated. Select only valid columns or specify the value of numeric_only to silence this warning.\n",
      "  clinical_dataset[(clinical_dataset[\"age\"] == 67) & (clinical_dataset[\"sex\"] == \"Female\")].mean()\n"
     ]
    },
    {
     "data": {
      "text/plain": [
       "age       67.000000\n",
       "weight    83.613333\n",
       "height     1.612400\n",
       "dtype: float64"
      ]
     },
     "execution_count": 29,
     "metadata": {},
     "output_type": "execute_result"
    }
   ],
   "source": [
    "# Displaying the group of patients aged 67\n",
    "clinical_dataset[(clinical_dataset[\"age\"] == 67) & (clinical_dataset[\"sex\"] == \"Female\")].mean()"
   ]
  },
  {
   "cell_type": "code",
   "execution_count": 30,
   "id": "9d83b3a0",
   "metadata": {},
   "outputs": [],
   "source": [
    "#Replacing the Nan values individually\n",
    "clinical_dataset.at[372,\"weight\"] = 83.613333"
   ]
  },
  {
   "cell_type": "code",
   "execution_count": 31,
   "id": "8f3acbf4",
   "metadata": {},
   "outputs": [
    {
     "name": "stderr",
     "output_type": "stream",
     "text": [
      "C:\\Users\\James\\AppData\\Local\\Temp\\ipykernel_9712\\2347124795.py:2: FutureWarning: The default value of numeric_only in DataFrame.mean is deprecated. In a future version, it will default to False. In addition, specifying 'numeric_only=None' is deprecated. Select only valid columns or specify the value of numeric_only to silence this warning.\n",
      "  clinical_dataset[(clinical_dataset[\"age\"] == 66) & (clinical_dataset[\"sex\"] == \"Male\")].mean()\n"
     ]
    },
    {
     "data": {
      "text/plain": [
       "age       66.000000\n",
       "weight    99.812222\n",
       "height     1.784211\n",
       "dtype: float64"
      ]
     },
     "execution_count": 31,
     "metadata": {},
     "output_type": "execute_result"
    }
   ],
   "source": [
    "# Displaying the group of patients aged 66\n",
    "clinical_dataset[(clinical_dataset[\"age\"] == 66) & (clinical_dataset[\"sex\"] == \"Male\")].mean()"
   ]
  },
  {
   "cell_type": "code",
   "execution_count": 32,
   "id": "772a8f9a",
   "metadata": {},
   "outputs": [],
   "source": [
    "#Replacing the Nan values individually\n",
    "clinical_dataset.at[427,\"weight\"] = 99.812222"
   ]
  },
  {
   "cell_type": "code",
   "execution_count": 33,
   "id": "d87288c3",
   "metadata": {},
   "outputs": [
    {
     "name": "stderr",
     "output_type": "stream",
     "text": [
      "C:\\Users\\James\\AppData\\Local\\Temp\\ipykernel_9712\\3051124930.py:2: FutureWarning: The default value of numeric_only in DataFrame.mean is deprecated. In a future version, it will default to False. In addition, specifying 'numeric_only=None' is deprecated. Select only valid columns or specify the value of numeric_only to silence this warning.\n",
      "  clinical_dataset[(clinical_dataset[\"age\"] == 60) & (clinical_dataset[\"sex\"] == \"Female\")].mean()\n"
     ]
    },
    {
     "data": {
      "text/plain": [
       "age       60.000000\n",
       "weight    89.025909\n",
       "height     1.620870\n",
       "dtype: float64"
      ]
     },
     "execution_count": 33,
     "metadata": {},
     "output_type": "execute_result"
    }
   ],
   "source": [
    "# Displaying the group of patients aged 60\n",
    "clinical_dataset[(clinical_dataset[\"age\"] == 60) & (clinical_dataset[\"sex\"] == \"Female\")].mean()"
   ]
  },
  {
   "cell_type": "code",
   "execution_count": 34,
   "id": "6f86e68b",
   "metadata": {},
   "outputs": [],
   "source": [
    "#Replacing the Nan values individually\n",
    "clinical_dataset.at[495,\"weight\"] = 89.025909"
   ]
  },
  {
   "cell_type": "code",
   "execution_count": 35,
   "id": "52a993da",
   "metadata": {},
   "outputs": [
    {
     "name": "stderr",
     "output_type": "stream",
     "text": [
      "C:\\Users\\James\\AppData\\Local\\Temp\\ipykernel_9712\\3223133000.py:2: FutureWarning: The default value of numeric_only in DataFrame.mean is deprecated. In a future version, it will default to False. In addition, specifying 'numeric_only=None' is deprecated. Select only valid columns or specify the value of numeric_only to silence this warning.\n",
      "  clinical_dataset[(clinical_dataset[\"age\"] == 62) & (clinical_dataset[\"sex\"] == \"Female\")].mean()\n"
     ]
    },
    {
     "data": {
      "text/plain": [
       "age       62.00000\n",
       "weight    82.33800\n",
       "height     1.59125\n",
       "dtype: float64"
      ]
     },
     "execution_count": 35,
     "metadata": {},
     "output_type": "execute_result"
    }
   ],
   "source": [
    "# Displaying the group of patients aged 62\n",
    "clinical_dataset[(clinical_dataset[\"age\"] == 62) & (clinical_dataset[\"sex\"] == \"Female\")].mean()"
   ]
  },
  {
   "cell_type": "code",
   "execution_count": 36,
   "id": "254acf22",
   "metadata": {},
   "outputs": [],
   "source": [
    "#Replacing the Nan values individually\n",
    "clinical_dataset.at[523,\"weight\"] = 82.33800"
   ]
  },
  {
   "cell_type": "code",
   "execution_count": 37,
   "id": "b764a2eb",
   "metadata": {},
   "outputs": [
    {
     "name": "stderr",
     "output_type": "stream",
     "text": [
      "C:\\Users\\James\\AppData\\Local\\Temp\\ipykernel_9712\\4168779951.py:2: FutureWarning: The default value of numeric_only in DataFrame.mean is deprecated. In a future version, it will default to False. In addition, specifying 'numeric_only=None' is deprecated. Select only valid columns or specify the value of numeric_only to silence this warning.\n",
      "  clinical_dataset[(clinical_dataset[\"age\"] == 74) & (clinical_dataset[\"sex\"] == \"Male\")].mean()\n"
     ]
    },
    {
     "data": {
      "text/plain": [
       "age       74.0000\n",
       "weight    86.6275\n",
       "height     1.7580\n",
       "dtype: float64"
      ]
     },
     "execution_count": 37,
     "metadata": {},
     "output_type": "execute_result"
    }
   ],
   "source": [
    "# Displaying the group of patients aged 74\n",
    "clinical_dataset[(clinical_dataset[\"age\"] == 74) & (clinical_dataset[\"sex\"] == \"Male\")].mean()"
   ]
  },
  {
   "cell_type": "code",
   "execution_count": 38,
   "id": "5713927c",
   "metadata": {},
   "outputs": [],
   "source": [
    "#Replacing the Nan values individually\n",
    "clinical_dataset.at[685,\"weight\"] = 86.6275"
   ]
  },
  {
   "cell_type": "code",
   "execution_count": 39,
   "id": "b3becf36",
   "metadata": {},
   "outputs": [
    {
     "name": "stderr",
     "output_type": "stream",
     "text": [
      "C:\\Users\\James\\AppData\\Local\\Temp\\ipykernel_9712\\1537195054.py:2: FutureWarning: The default value of numeric_only in DataFrame.mean is deprecated. In a future version, it will default to False. In addition, specifying 'numeric_only=None' is deprecated. Select only valid columns or specify the value of numeric_only to silence this warning.\n",
      "  clinical_dataset[(clinical_dataset[\"age\"] == 72) & (clinical_dataset[\"sex\"] == \"Male\")].mean()\n"
     ]
    },
    {
     "data": {
      "text/plain": [
       "age       72.000000\n",
       "weight    96.942500\n",
       "height     1.753333\n",
       "dtype: float64"
      ]
     },
     "execution_count": 39,
     "metadata": {},
     "output_type": "execute_result"
    }
   ],
   "source": [
    "# Displaying the group of patients aged 72\n",
    "clinical_dataset[(clinical_dataset[\"age\"] == 72) & (clinical_dataset[\"sex\"] == \"Male\")].mean()"
   ]
  },
  {
   "cell_type": "code",
   "execution_count": 40,
   "id": "032c7a41",
   "metadata": {},
   "outputs": [],
   "source": [
    "#Replacing the Nan values individually\n",
    "clinical_dataset.at[707,\"weight\"] =  96.942500"
   ]
  },
  {
   "cell_type": "code",
   "execution_count": 41,
   "id": "5a1b7232",
   "metadata": {},
   "outputs": [
    {
     "data": {
      "text/plain": [
       "1"
      ]
     },
     "execution_count": 41,
     "metadata": {},
     "output_type": "execute_result"
    }
   ],
   "source": [
    "#checking for duplicated entries\n",
    "clinical_dataset.duplicated().sum()"
   ]
  },
  {
   "cell_type": "code",
   "execution_count": 42,
   "id": "41676fc3",
   "metadata": {},
   "outputs": [],
   "source": [
    "clinical_dataset = clinical_dataset.drop_duplicates()"
   ]
  },
  {
   "cell_type": "code",
   "execution_count": 43,
   "id": "dc8f881b",
   "metadata": {},
   "outputs": [
    {
     "data": {
      "text/plain": [
       "0"
      ]
     },
     "execution_count": 43,
     "metadata": {},
     "output_type": "execute_result"
    }
   ],
   "source": [
    "#checking for duplicated entries\n",
    "clinical_dataset.duplicated().sum()"
   ]
  },
  {
   "cell_type": "code",
   "execution_count": 44,
   "id": "007a5aa8",
   "metadata": {},
   "outputs": [
    {
     "data": {
      "text/plain": [
       "subject_id    0\n",
       "age           0\n",
       "sex           0\n",
       "weight        0\n",
       "height        0\n",
       "trt_grp       0\n",
       "RESPONSE      0\n",
       "dtype: int64"
      ]
     },
     "execution_count": 44,
     "metadata": {},
     "output_type": "execute_result"
    }
   ],
   "source": [
    "#checking for null values \n",
    "clinical_dataset.isna().sum()"
   ]
  },
  {
   "cell_type": "code",
   "execution_count": 45,
   "id": "bfa3a723",
   "metadata": {},
   "outputs": [
    {
     "data": {
      "text/html": [
       "<div>\n",
       "<style scoped>\n",
       "    .dataframe tbody tr th:only-of-type {\n",
       "        vertical-align: middle;\n",
       "    }\n",
       "\n",
       "    .dataframe tbody tr th {\n",
       "        vertical-align: top;\n",
       "    }\n",
       "\n",
       "    .dataframe thead th {\n",
       "        text-align: right;\n",
       "    }\n",
       "</style>\n",
       "<table border=\"1\" class=\"dataframe\">\n",
       "  <thead>\n",
       "    <tr style=\"text-align: right;\">\n",
       "      <th></th>\n",
       "      <th>age</th>\n",
       "      <th>weight</th>\n",
       "      <th>height</th>\n",
       "    </tr>\n",
       "  </thead>\n",
       "  <tbody>\n",
       "    <tr>\n",
       "      <th>count</th>\n",
       "      <td>768.000000</td>\n",
       "      <td>768.000000</td>\n",
       "      <td>768.000000</td>\n",
       "    </tr>\n",
       "    <tr>\n",
       "      <th>mean</th>\n",
       "      <td>61.811198</td>\n",
       "      <td>91.397538</td>\n",
       "      <td>1.679271</td>\n",
       "    </tr>\n",
       "    <tr>\n",
       "      <th>std</th>\n",
       "      <td>7.107447</td>\n",
       "      <td>21.995748</td>\n",
       "      <td>0.097888</td>\n",
       "    </tr>\n",
       "    <tr>\n",
       "      <th>min</th>\n",
       "      <td>37.000000</td>\n",
       "      <td>46.170000</td>\n",
       "      <td>1.420000</td>\n",
       "    </tr>\n",
       "    <tr>\n",
       "      <th>25%</th>\n",
       "      <td>57.000000</td>\n",
       "      <td>75.932500</td>\n",
       "      <td>1.600000</td>\n",
       "    </tr>\n",
       "    <tr>\n",
       "      <th>50%</th>\n",
       "      <td>62.000000</td>\n",
       "      <td>88.985000</td>\n",
       "      <td>1.680000</td>\n",
       "    </tr>\n",
       "    <tr>\n",
       "      <th>75%</th>\n",
       "      <td>67.000000</td>\n",
       "      <td>104.400000</td>\n",
       "      <td>1.760000</td>\n",
       "    </tr>\n",
       "    <tr>\n",
       "      <th>max</th>\n",
       "      <td>79.000000</td>\n",
       "      <td>182.500000</td>\n",
       "      <td>1.940000</td>\n",
       "    </tr>\n",
       "  </tbody>\n",
       "</table>\n",
       "</div>"
      ],
      "text/plain": [
       "              age      weight      height\n",
       "count  768.000000  768.000000  768.000000\n",
       "mean    61.811198   91.397538    1.679271\n",
       "std      7.107447   21.995748    0.097888\n",
       "min     37.000000   46.170000    1.420000\n",
       "25%     57.000000   75.932500    1.600000\n",
       "50%     62.000000   88.985000    1.680000\n",
       "75%     67.000000  104.400000    1.760000\n",
       "max     79.000000  182.500000    1.940000"
      ]
     },
     "execution_count": 45,
     "metadata": {},
     "output_type": "execute_result"
    }
   ],
   "source": [
    "#Getting dataframe information\n",
    "clinical_dataset.describe()"
   ]
  },
  {
   "cell_type": "code",
   "execution_count": 46,
   "id": "bac4c1c7",
   "metadata": {},
   "outputs": [
    {
     "data": {
      "text/plain": [
       "participant_id           0\n",
       "protein_concentration    5\n",
       "dtype: int64"
      ]
     },
     "execution_count": 46,
     "metadata": {},
     "output_type": "execute_result"
    }
   ],
   "source": [
    "#checking for null values \n",
    "protein_dataset.isna().sum()"
   ]
  },
  {
   "cell_type": "code",
   "execution_count": 47,
   "id": "4a6a53f0",
   "metadata": {},
   "outputs": [
    {
     "data": {
      "text/html": [
       "<div>\n",
       "<style scoped>\n",
       "    .dataframe tbody tr th:only-of-type {\n",
       "        vertical-align: middle;\n",
       "    }\n",
       "\n",
       "    .dataframe tbody tr th {\n",
       "        vertical-align: top;\n",
       "    }\n",
       "\n",
       "    .dataframe thead th {\n",
       "        text-align: right;\n",
       "    }\n",
       "</style>\n",
       "<table border=\"1\" class=\"dataframe\">\n",
       "  <thead>\n",
       "    <tr style=\"text-align: right;\">\n",
       "      <th></th>\n",
       "      <th>participant_id</th>\n",
       "      <th>protein_concentration</th>\n",
       "    </tr>\n",
       "  </thead>\n",
       "  <tbody>\n",
       "    <tr>\n",
       "      <th>75</th>\n",
       "      <td>SUBJ_076</td>\n",
       "      <td>NaN</td>\n",
       "    </tr>\n",
       "    <tr>\n",
       "      <th>182</th>\n",
       "      <td>SUBJ_183</td>\n",
       "      <td>NaN</td>\n",
       "    </tr>\n",
       "    <tr>\n",
       "      <th>342</th>\n",
       "      <td>SUBJ_343</td>\n",
       "      <td>NaN</td>\n",
       "    </tr>\n",
       "    <tr>\n",
       "      <th>349</th>\n",
       "      <td>SUBJ_350</td>\n",
       "      <td>NaN</td>\n",
       "    </tr>\n",
       "    <tr>\n",
       "      <th>502</th>\n",
       "      <td>SUBJ_503</td>\n",
       "      <td>NaN</td>\n",
       "    </tr>\n",
       "  </tbody>\n",
       "</table>\n",
       "</div>"
      ],
      "text/plain": [
       "    participant_id  protein_concentration\n",
       "75        SUBJ_076                    NaN\n",
       "182       SUBJ_183                    NaN\n",
       "342       SUBJ_343                    NaN\n",
       "349       SUBJ_350                    NaN\n",
       "502       SUBJ_503                    NaN"
      ]
     },
     "execution_count": 47,
     "metadata": {},
     "output_type": "execute_result"
    }
   ],
   "source": [
    "#Displaying Nan Values\n",
    "protein_dataset[protein_dataset[\"protein_concentration\"].isna()]"
   ]
  },
  {
   "cell_type": "code",
   "execution_count": 48,
   "id": "9f48fb0e",
   "metadata": {},
   "outputs": [
    {
     "data": {
      "text/html": [
       "<div>\n",
       "<style scoped>\n",
       "    .dataframe tbody tr th:only-of-type {\n",
       "        vertical-align: middle;\n",
       "    }\n",
       "\n",
       "    .dataframe tbody tr th {\n",
       "        vertical-align: top;\n",
       "    }\n",
       "\n",
       "    .dataframe thead th {\n",
       "        text-align: right;\n",
       "    }\n",
       "</style>\n",
       "<table border=\"1\" class=\"dataframe\">\n",
       "  <thead>\n",
       "    <tr style=\"text-align: right;\">\n",
       "      <th></th>\n",
       "      <th>protein_concentration</th>\n",
       "    </tr>\n",
       "  </thead>\n",
       "  <tbody>\n",
       "    <tr>\n",
       "      <th>count</th>\n",
       "      <td>763.000000</td>\n",
       "    </tr>\n",
       "    <tr>\n",
       "      <th>mean</th>\n",
       "      <td>121.686763</td>\n",
       "    </tr>\n",
       "    <tr>\n",
       "      <th>std</th>\n",
       "      <td>30.535641</td>\n",
       "    </tr>\n",
       "    <tr>\n",
       "      <th>min</th>\n",
       "      <td>44.000000</td>\n",
       "    </tr>\n",
       "    <tr>\n",
       "      <th>25%</th>\n",
       "      <td>99.000000</td>\n",
       "    </tr>\n",
       "    <tr>\n",
       "      <th>50%</th>\n",
       "      <td>117.000000</td>\n",
       "    </tr>\n",
       "    <tr>\n",
       "      <th>75%</th>\n",
       "      <td>141.000000</td>\n",
       "    </tr>\n",
       "    <tr>\n",
       "      <th>max</th>\n",
       "      <td>199.000000</td>\n",
       "    </tr>\n",
       "  </tbody>\n",
       "</table>\n",
       "</div>"
      ],
      "text/plain": [
       "       protein_concentration\n",
       "count             763.000000\n",
       "mean              121.686763\n",
       "std                30.535641\n",
       "min                44.000000\n",
       "25%                99.000000\n",
       "50%               117.000000\n",
       "75%               141.000000\n",
       "max               199.000000"
      ]
     },
     "execution_count": 48,
     "metadata": {},
     "output_type": "execute_result"
    }
   ],
   "source": [
    "#Getting dataframe information\n",
    "protein_dataset.describe()"
   ]
  },
  {
   "cell_type": "code",
   "execution_count": 49,
   "id": "dde4b04c",
   "metadata": {},
   "outputs": [],
   "source": [
    "# replacing nan values with the mean\n",
    "protein_dataset[\"protein_concentration\"].fillna(protein_dataset[\"protein_concentration\"].mean(), inplace=True)"
   ]
  },
  {
   "cell_type": "code",
   "execution_count": 50,
   "id": "b3f7a0a8",
   "metadata": {},
   "outputs": [
    {
     "data": {
      "text/plain": [
       "participant_id           0\n",
       "protein_concentration    0\n",
       "dtype: int64"
      ]
     },
     "execution_count": 50,
     "metadata": {},
     "output_type": "execute_result"
    }
   ],
   "source": [
    "#checking for null values \n",
    "protein_dataset.isna().sum()"
   ]
  },
  {
   "cell_type": "markdown",
   "id": "09d245cc",
   "metadata": {},
   "source": [
    "## Creating New Variables"
   ]
  },
  {
   "cell_type": "code",
   "execution_count": 51,
   "id": "ce0ad7b4",
   "metadata": {},
   "outputs": [],
   "source": [
    "# Renaming the participant_id to subject_id\n",
    "protein_dataset.rename(columns={\"participant_id\": \"subject_id\"}, inplace=True)"
   ]
  },
  {
   "cell_type": "code",
   "execution_count": 52,
   "id": "c608778c",
   "metadata": {},
   "outputs": [
    {
     "data": {
      "text/html": [
       "<div>\n",
       "<style scoped>\n",
       "    .dataframe tbody tr th:only-of-type {\n",
       "        vertical-align: middle;\n",
       "    }\n",
       "\n",
       "    .dataframe tbody tr th {\n",
       "        vertical-align: top;\n",
       "    }\n",
       "\n",
       "    .dataframe thead th {\n",
       "        text-align: right;\n",
       "    }\n",
       "</style>\n",
       "<table border=\"1\" class=\"dataframe\">\n",
       "  <thead>\n",
       "    <tr style=\"text-align: right;\">\n",
       "      <th></th>\n",
       "      <th>subject_id</th>\n",
       "      <th>age</th>\n",
       "      <th>sex</th>\n",
       "      <th>weight</th>\n",
       "      <th>height</th>\n",
       "      <th>trt_grp</th>\n",
       "      <th>RESPONSE</th>\n",
       "      <th>protein_concentration</th>\n",
       "    </tr>\n",
       "  </thead>\n",
       "  <tbody>\n",
       "    <tr>\n",
       "      <th>0</th>\n",
       "      <td>SUBJ_001</td>\n",
       "      <td>46</td>\n",
       "      <td>Female</td>\n",
       "      <td>84.66</td>\n",
       "      <td>1.59</td>\n",
       "      <td>DRUG</td>\n",
       "      <td>N</td>\n",
       "      <td>148.0</td>\n",
       "    </tr>\n",
       "    <tr>\n",
       "      <th>1</th>\n",
       "      <td>SUBJ_002</td>\n",
       "      <td>47</td>\n",
       "      <td>Female</td>\n",
       "      <td>71.21</td>\n",
       "      <td>1.64</td>\n",
       "      <td>DRUG</td>\n",
       "      <td>Y</td>\n",
       "      <td>85.0</td>\n",
       "    </tr>\n",
       "    <tr>\n",
       "      <th>2</th>\n",
       "      <td>SUBJ_003</td>\n",
       "      <td>48</td>\n",
       "      <td>Female</td>\n",
       "      <td>69.85</td>\n",
       "      <td>1.73</td>\n",
       "      <td>CONTROL</td>\n",
       "      <td>N</td>\n",
       "      <td>183.0</td>\n",
       "    </tr>\n",
       "    <tr>\n",
       "      <th>3</th>\n",
       "      <td>SUBJ_004</td>\n",
       "      <td>59</td>\n",
       "      <td>Female</td>\n",
       "      <td>62.94</td>\n",
       "      <td>1.50</td>\n",
       "      <td>DRUG</td>\n",
       "      <td>Y</td>\n",
       "      <td>89.0</td>\n",
       "    </tr>\n",
       "    <tr>\n",
       "      <th>4</th>\n",
       "      <td>SUBJ_005</td>\n",
       "      <td>59</td>\n",
       "      <td>Female</td>\n",
       "      <td>113.91</td>\n",
       "      <td>1.63</td>\n",
       "      <td>CONTROL</td>\n",
       "      <td>N</td>\n",
       "      <td>137.0</td>\n",
       "    </tr>\n",
       "    <tr>\n",
       "      <th>...</th>\n",
       "      <td>...</td>\n",
       "      <td>...</td>\n",
       "      <td>...</td>\n",
       "      <td>...</td>\n",
       "      <td>...</td>\n",
       "      <td>...</td>\n",
       "      <td>...</td>\n",
       "      <td>...</td>\n",
       "    </tr>\n",
       "    <tr>\n",
       "      <th>763</th>\n",
       "      <td>SUBJ_764</td>\n",
       "      <td>61</td>\n",
       "      <td>Female</td>\n",
       "      <td>82.95</td>\n",
       "      <td>1.59</td>\n",
       "      <td>CONTROL</td>\n",
       "      <td>Y</td>\n",
       "      <td>101.0</td>\n",
       "    </tr>\n",
       "    <tr>\n",
       "      <th>764</th>\n",
       "      <td>SUBJ_765</td>\n",
       "      <td>65</td>\n",
       "      <td>Male</td>\n",
       "      <td>112.86</td>\n",
       "      <td>1.76</td>\n",
       "      <td>DRUG</td>\n",
       "      <td>N</td>\n",
       "      <td>122.0</td>\n",
       "    </tr>\n",
       "    <tr>\n",
       "      <th>765</th>\n",
       "      <td>SUBJ_766</td>\n",
       "      <td>60</td>\n",
       "      <td>Male</td>\n",
       "      <td>81.03</td>\n",
       "      <td>1.77</td>\n",
       "      <td>DRUG</td>\n",
       "      <td>N</td>\n",
       "      <td>121.0</td>\n",
       "    </tr>\n",
       "    <tr>\n",
       "      <th>766</th>\n",
       "      <td>SUBJ_767</td>\n",
       "      <td>53</td>\n",
       "      <td>Male</td>\n",
       "      <td>88.67</td>\n",
       "      <td>1.72</td>\n",
       "      <td>DRUG</td>\n",
       "      <td>Y</td>\n",
       "      <td>126.0</td>\n",
       "    </tr>\n",
       "    <tr>\n",
       "      <th>767</th>\n",
       "      <td>SUBJ_768</td>\n",
       "      <td>68</td>\n",
       "      <td>Female</td>\n",
       "      <td>80.29</td>\n",
       "      <td>1.63</td>\n",
       "      <td>DRUG</td>\n",
       "      <td>Y</td>\n",
       "      <td>93.0</td>\n",
       "    </tr>\n",
       "  </tbody>\n",
       "</table>\n",
       "<p>768 rows × 8 columns</p>\n",
       "</div>"
      ],
      "text/plain": [
       "    subject_id  age     sex  weight  height  trt_grp RESPONSE  \\\n",
       "0     SUBJ_001   46  Female   84.66    1.59     DRUG        N   \n",
       "1     SUBJ_002   47  Female   71.21    1.64     DRUG        Y   \n",
       "2     SUBJ_003   48  Female   69.85    1.73  CONTROL        N   \n",
       "3     SUBJ_004   59  Female   62.94    1.50     DRUG        Y   \n",
       "4     SUBJ_005   59  Female  113.91    1.63  CONTROL        N   \n",
       "..         ...  ...     ...     ...     ...      ...      ...   \n",
       "763   SUBJ_764   61  Female   82.95    1.59  CONTROL        Y   \n",
       "764   SUBJ_765   65    Male  112.86    1.76     DRUG        N   \n",
       "765   SUBJ_766   60    Male   81.03    1.77     DRUG        N   \n",
       "766   SUBJ_767   53    Male   88.67    1.72     DRUG        Y   \n",
       "767   SUBJ_768   68  Female   80.29    1.63     DRUG        Y   \n",
       "\n",
       "     protein_concentration  \n",
       "0                    148.0  \n",
       "1                     85.0  \n",
       "2                    183.0  \n",
       "3                     89.0  \n",
       "4                    137.0  \n",
       "..                     ...  \n",
       "763                  101.0  \n",
       "764                  122.0  \n",
       "765                  121.0  \n",
       "766                  126.0  \n",
       "767                   93.0  \n",
       "\n",
       "[768 rows x 8 columns]"
      ]
     },
     "execution_count": 52,
     "metadata": {},
     "output_type": "execute_result"
    }
   ],
   "source": [
    "# merging the clinical dataset with the protein dataset\n",
    "clinical_dataset = pd.merge(clinical_dataset, protein_dataset, on=\"subject_id\")\n",
    "clinical_dataset"
   ]
  },
  {
   "cell_type": "code",
   "execution_count": 53,
   "id": "b3771187",
   "metadata": {},
   "outputs": [],
   "source": [
    "# Calculating and creating the BMI of patients\n",
    "clinical_dataset[\"BMI_subject\"] = clinical_dataset[\"weight\"] / (clinical_dataset[\"height\"] ** 2)"
   ]
  },
  {
   "cell_type": "code",
   "execution_count": 54,
   "id": "b0a410a6",
   "metadata": {},
   "outputs": [
    {
     "data": {
      "text/html": [
       "<div>\n",
       "<style scoped>\n",
       "    .dataframe tbody tr th:only-of-type {\n",
       "        vertical-align: middle;\n",
       "    }\n",
       "\n",
       "    .dataframe tbody tr th {\n",
       "        vertical-align: top;\n",
       "    }\n",
       "\n",
       "    .dataframe thead th {\n",
       "        text-align: right;\n",
       "    }\n",
       "</style>\n",
       "<table border=\"1\" class=\"dataframe\">\n",
       "  <thead>\n",
       "    <tr style=\"text-align: right;\">\n",
       "      <th></th>\n",
       "      <th>subject_id</th>\n",
       "      <th>age</th>\n",
       "      <th>sex</th>\n",
       "      <th>weight</th>\n",
       "      <th>height</th>\n",
       "      <th>trt_grp</th>\n",
       "      <th>RESPONSE</th>\n",
       "      <th>protein_concentration</th>\n",
       "      <th>BMI_subject</th>\n",
       "    </tr>\n",
       "  </thead>\n",
       "  <tbody>\n",
       "    <tr>\n",
       "      <th>0</th>\n",
       "      <td>SUBJ_001</td>\n",
       "      <td>46</td>\n",
       "      <td>Female</td>\n",
       "      <td>84.66</td>\n",
       "      <td>1.59</td>\n",
       "      <td>DRUG</td>\n",
       "      <td>N</td>\n",
       "      <td>148.0</td>\n",
       "      <td>33.487599</td>\n",
       "    </tr>\n",
       "    <tr>\n",
       "      <th>1</th>\n",
       "      <td>SUBJ_002</td>\n",
       "      <td>47</td>\n",
       "      <td>Female</td>\n",
       "      <td>71.21</td>\n",
       "      <td>1.64</td>\n",
       "      <td>DRUG</td>\n",
       "      <td>Y</td>\n",
       "      <td>85.0</td>\n",
       "      <td>26.476056</td>\n",
       "    </tr>\n",
       "    <tr>\n",
       "      <th>2</th>\n",
       "      <td>SUBJ_003</td>\n",
       "      <td>48</td>\n",
       "      <td>Female</td>\n",
       "      <td>69.85</td>\n",
       "      <td>1.73</td>\n",
       "      <td>CONTROL</td>\n",
       "      <td>N</td>\n",
       "      <td>183.0</td>\n",
       "      <td>23.338568</td>\n",
       "    </tr>\n",
       "    <tr>\n",
       "      <th>3</th>\n",
       "      <td>SUBJ_004</td>\n",
       "      <td>59</td>\n",
       "      <td>Female</td>\n",
       "      <td>62.94</td>\n",
       "      <td>1.50</td>\n",
       "      <td>DRUG</td>\n",
       "      <td>Y</td>\n",
       "      <td>89.0</td>\n",
       "      <td>27.973333</td>\n",
       "    </tr>\n",
       "    <tr>\n",
       "      <th>4</th>\n",
       "      <td>SUBJ_005</td>\n",
       "      <td>59</td>\n",
       "      <td>Female</td>\n",
       "      <td>113.91</td>\n",
       "      <td>1.63</td>\n",
       "      <td>CONTROL</td>\n",
       "      <td>N</td>\n",
       "      <td>137.0</td>\n",
       "      <td>42.873273</td>\n",
       "    </tr>\n",
       "    <tr>\n",
       "      <th>...</th>\n",
       "      <td>...</td>\n",
       "      <td>...</td>\n",
       "      <td>...</td>\n",
       "      <td>...</td>\n",
       "      <td>...</td>\n",
       "      <td>...</td>\n",
       "      <td>...</td>\n",
       "      <td>...</td>\n",
       "      <td>...</td>\n",
       "    </tr>\n",
       "    <tr>\n",
       "      <th>763</th>\n",
       "      <td>SUBJ_764</td>\n",
       "      <td>61</td>\n",
       "      <td>Female</td>\n",
       "      <td>82.95</td>\n",
       "      <td>1.59</td>\n",
       "      <td>CONTROL</td>\n",
       "      <td>Y</td>\n",
       "      <td>101.0</td>\n",
       "      <td>32.811202</td>\n",
       "    </tr>\n",
       "    <tr>\n",
       "      <th>764</th>\n",
       "      <td>SUBJ_765</td>\n",
       "      <td>65</td>\n",
       "      <td>Male</td>\n",
       "      <td>112.86</td>\n",
       "      <td>1.76</td>\n",
       "      <td>DRUG</td>\n",
       "      <td>N</td>\n",
       "      <td>122.0</td>\n",
       "      <td>36.434659</td>\n",
       "    </tr>\n",
       "    <tr>\n",
       "      <th>765</th>\n",
       "      <td>SUBJ_766</td>\n",
       "      <td>60</td>\n",
       "      <td>Male</td>\n",
       "      <td>81.03</td>\n",
       "      <td>1.77</td>\n",
       "      <td>DRUG</td>\n",
       "      <td>N</td>\n",
       "      <td>121.0</td>\n",
       "      <td>25.864215</td>\n",
       "    </tr>\n",
       "    <tr>\n",
       "      <th>766</th>\n",
       "      <td>SUBJ_767</td>\n",
       "      <td>53</td>\n",
       "      <td>Male</td>\n",
       "      <td>88.67</td>\n",
       "      <td>1.72</td>\n",
       "      <td>DRUG</td>\n",
       "      <td>Y</td>\n",
       "      <td>126.0</td>\n",
       "      <td>29.972282</td>\n",
       "    </tr>\n",
       "    <tr>\n",
       "      <th>767</th>\n",
       "      <td>SUBJ_768</td>\n",
       "      <td>68</td>\n",
       "      <td>Female</td>\n",
       "      <td>80.29</td>\n",
       "      <td>1.63</td>\n",
       "      <td>DRUG</td>\n",
       "      <td>Y</td>\n",
       "      <td>93.0</td>\n",
       "      <td>30.219429</td>\n",
       "    </tr>\n",
       "  </tbody>\n",
       "</table>\n",
       "<p>768 rows × 9 columns</p>\n",
       "</div>"
      ],
      "text/plain": [
       "    subject_id  age     sex  weight  height  trt_grp RESPONSE  \\\n",
       "0     SUBJ_001   46  Female   84.66    1.59     DRUG        N   \n",
       "1     SUBJ_002   47  Female   71.21    1.64     DRUG        Y   \n",
       "2     SUBJ_003   48  Female   69.85    1.73  CONTROL        N   \n",
       "3     SUBJ_004   59  Female   62.94    1.50     DRUG        Y   \n",
       "4     SUBJ_005   59  Female  113.91    1.63  CONTROL        N   \n",
       "..         ...  ...     ...     ...     ...      ...      ...   \n",
       "763   SUBJ_764   61  Female   82.95    1.59  CONTROL        Y   \n",
       "764   SUBJ_765   65    Male  112.86    1.76     DRUG        N   \n",
       "765   SUBJ_766   60    Male   81.03    1.77     DRUG        N   \n",
       "766   SUBJ_767   53    Male   88.67    1.72     DRUG        Y   \n",
       "767   SUBJ_768   68  Female   80.29    1.63     DRUG        Y   \n",
       "\n",
       "     protein_concentration  BMI_subject  \n",
       "0                    148.0    33.487599  \n",
       "1                     85.0    26.476056  \n",
       "2                    183.0    23.338568  \n",
       "3                     89.0    27.973333  \n",
       "4                    137.0    42.873273  \n",
       "..                     ...          ...  \n",
       "763                  101.0    32.811202  \n",
       "764                  122.0    36.434659  \n",
       "765                  121.0    25.864215  \n",
       "766                  126.0    29.972282  \n",
       "767                   93.0    30.219429  \n",
       "\n",
       "[768 rows x 9 columns]"
      ]
     },
     "execution_count": 54,
     "metadata": {},
     "output_type": "execute_result"
    }
   ],
   "source": [
    "clinical_dataset"
   ]
  },
  {
   "cell_type": "markdown",
   "id": "35bce673",
   "metadata": {},
   "source": [
    "## Data Aggregation"
   ]
  },
  {
   "cell_type": "code",
   "execution_count": 55,
   "id": "6d0b5566",
   "metadata": {},
   "outputs": [],
   "source": [
    "# Comparing mean age in two treatment groups\n",
    "grouped_data = clinical_dataset.groupby(\"trt_grp\")[\"age\"].mean()"
   ]
  },
  {
   "cell_type": "code",
   "execution_count": 56,
   "id": "b44cb339",
   "metadata": {},
   "outputs": [
    {
     "data": {
      "text/plain": [
       "trt_grp\n",
       "CONTROL    61.862338\n",
       "DRUG       61.759791\n",
       "Name: age, dtype: float64"
      ]
     },
     "execution_count": 56,
     "metadata": {},
     "output_type": "execute_result"
    }
   ],
   "source": [
    "# displaying the data \n",
    "grouped_data"
   ]
  },
  {
   "cell_type": "code",
   "execution_count": 57,
   "id": "0c5b7ab0",
   "metadata": {},
   "outputs": [],
   "source": [
    "# Comparing mean age in Responders vs non-responders groups\n",
    "grouped_data = clinical_dataset.groupby(\"RESPONSE\")[\"age\"].mean()"
   ]
  },
  {
   "cell_type": "code",
   "execution_count": 58,
   "id": "0a06148e",
   "metadata": {},
   "outputs": [
    {
     "data": {
      "text/plain": [
       "RESPONSE\n",
       "N    61.748848\n",
       "Y    61.892216\n",
       "Name: age, dtype: float64"
      ]
     },
     "execution_count": 58,
     "metadata": {},
     "output_type": "execute_result"
    }
   ],
   "source": [
    "# displaying the data \n",
    "grouped_data"
   ]
  },
  {
   "cell_type": "code",
   "execution_count": 59,
   "id": "9d06a01e",
   "metadata": {},
   "outputs": [],
   "source": [
    "# Comparing mean age for control vs drug group\n",
    "treatment_data = clinical_dataset[clinical_dataset[\"trt_grp\"].isin([\"CONTROL\", \"DRUG\"])]\n",
    "\n",
    "grouped_data = treatment_data.groupby([\"trt_grp\", \"RESPONSE\"])[\"age\"].mean()\n",
    "\n",
    "group1_non_responders = grouped_data.loc[(\"CONTROL\", \"N\")]\n",
    "group1_responders = grouped_data.loc[(\"CONTROL\", \"Y\")]\n",
    "group2_non_responders = grouped_data.loc[(\"DRUG\", \"N\")]\n",
    "group2_responders = grouped_data.loc[(\"DRUG\", \"Y\")]"
   ]
  },
  {
   "cell_type": "code",
   "execution_count": 60,
   "id": "c5b00a01",
   "metadata": {},
   "outputs": [
    {
     "data": {
      "text/plain": [
       "trt_grp  RESPONSE\n",
       "CONTROL  N           62.042146\n",
       "         Y           61.483871\n",
       "DRUG     N           61.306358\n",
       "         Y           62.133333\n",
       "Name: age, dtype: float64"
      ]
     },
     "execution_count": 60,
     "metadata": {},
     "output_type": "execute_result"
    }
   ],
   "source": [
    "# displaying the mean age of the group \n",
    "grouped_data"
   ]
  },
  {
   "cell_type": "code",
   "execution_count": 61,
   "id": "4fe8aa10",
   "metadata": {},
   "outputs": [],
   "source": [
    "# Comparing mean weight in Responders vs non-responders groups\n",
    "grouped_data = clinical_dataset.groupby(\"RESPONSE\")[\"weight\"].mean()"
   ]
  },
  {
   "cell_type": "code",
   "execution_count": 62,
   "id": "00ecf61d",
   "metadata": {},
   "outputs": [
    {
     "data": {
      "text/plain": [
       "RESPONSE\n",
       "N    89.975700\n",
       "Y    93.245076\n",
       "Name: weight, dtype: float64"
      ]
     },
     "execution_count": 62,
     "metadata": {},
     "output_type": "execute_result"
    }
   ],
   "source": [
    "grouped_data"
   ]
  },
  {
   "cell_type": "code",
   "execution_count": 63,
   "id": "1eeb2146",
   "metadata": {},
   "outputs": [],
   "source": [
    "# Comparing mean weight in two treatment groups\n",
    "grouped_data = clinical_dataset.groupby(\"trt_grp\")[\"weight\"].mean()"
   ]
  },
  {
   "cell_type": "code",
   "execution_count": 64,
   "id": "1ddbe957",
   "metadata": {},
   "outputs": [
    {
     "data": {
      "text/plain": [
       "trt_grp\n",
       "CONTROL    91.956232\n",
       "DRUG       90.835927\n",
       "Name: weight, dtype: float64"
      ]
     },
     "execution_count": 64,
     "metadata": {},
     "output_type": "execute_result"
    }
   ],
   "source": [
    "grouped_data"
   ]
  },
  {
   "cell_type": "code",
   "execution_count": 65,
   "id": "4511c29d",
   "metadata": {},
   "outputs": [],
   "source": [
    "# Comparing mean protein concentration in Responders vs non-responders groups\n",
    "grouped_data = clinical_dataset.groupby(\"RESPONSE\")[\"protein_concentration\"].mean()"
   ]
  },
  {
   "cell_type": "code",
   "execution_count": 66,
   "id": "6f0a0815",
   "metadata": {},
   "outputs": [
    {
     "data": {
      "text/plain": [
       "RESPONSE\n",
       "N    134.884932\n",
       "Y    104.537046\n",
       "Name: protein_concentration, dtype: float64"
      ]
     },
     "execution_count": 66,
     "metadata": {},
     "output_type": "execute_result"
    }
   ],
   "source": [
    "grouped_data"
   ]
  },
  {
   "cell_type": "code",
   "execution_count": 67,
   "id": "47f6ade1",
   "metadata": {},
   "outputs": [],
   "source": [
    "# Comparing mean protein concentration in two treatment groups\n",
    "grouped_data = clinical_dataset.groupby(\"trt_grp\")[\"protein_concentration\"].mean()"
   ]
  },
  {
   "cell_type": "code",
   "execution_count": 68,
   "id": "3cc4a64e",
   "metadata": {},
   "outputs": [
    {
     "data": {
      "text/plain": [
       "trt_grp\n",
       "CONTROL    121.297888\n",
       "DRUG       122.077669\n",
       "Name: protein_concentration, dtype: float64"
      ]
     },
     "execution_count": 68,
     "metadata": {},
     "output_type": "execute_result"
    }
   ],
   "source": [
    "grouped_data"
   ]
  },
  {
   "cell_type": "markdown",
   "id": "b54928ed",
   "metadata": {},
   "source": [
    "## Data Visualization"
   ]
  },
  {
   "cell_type": "code",
   "execution_count": 69,
   "id": "41b442b3",
   "metadata": {},
   "outputs": [
    {
     "data": {
      "image/png": "[encoded data removed]",
      "text/plain": [
       "<Figure size 640x480 with 1 Axes>"
      ]
     },
     "metadata": {},
     "output_type": "display_data"
    }
   ],
   "source": [
    "import seaborn as sns\n",
    "import matplotlib.pyplot as plt\n",
    "\n",
    "# Plotting Age by Response (Separated by Treatment Group)\n",
    "sns.boxplot(x=\"RESPONSE\", y=\"age\", hue=\"trt_grp\", data=clinical_dataset)\n",
    "plt.title(\"Boxplot of Age by Response (Separated by Treatment Group)\")\n",
    "plt.xlabel(\"Response\")\n",
    "plt.ylabel(\"Age\")\n",
    "plt.show()\n"
   ]
  },
  {
   "cell_type": "code",
   "execution_count": 70,
   "id": "a437b530",
   "metadata": {},
   "outputs": [
    {
     "data": {
      "image/png": "[encoded data removed]",
      "text/plain": [
       "<Figure size 640x480 with 1 Axes>"
      ]
     },
     "metadata": {},
     "output_type": "display_data"
    }
   ],
   "source": [
    "# Plotting Weight by Response (Separated by Treatment Group)\n",
    "sns.boxplot(x=\"RESPONSE\", y=\"weight\", hue=\"trt_grp\", data=clinical_dataset)\n",
    "plt.title(\"Boxplot of Weight by Response (Separated by Treatment Group)\")\n",
    "plt.xlabel(\"Response\")\n",
    "plt.ylabel(\"Weight\")\n",
    "plt.show()\n"
   ]
  },
  {
   "cell_type": "code",
   "execution_count": 71,
   "id": "3a3fbafb",
   "metadata": {},
   "outputs": [
    {
     "data": {
      "image/png": "[encoded data removed]",
      "text/plain": [
       "<Figure size 640x480 with 1 Axes>"
      ]
     },
     "metadata": {},
     "output_type": "display_data"
    }
   ],
   "source": [
    "# Plotting  Protein Concentration by Response (Separated by Treatment Group)\n",
    "sns.boxplot(x=\"RESPONSE\", y=\"protein_concentration\", hue=\"trt_grp\", data=clinical_dataset)\n",
    "plt.title(\"Boxplot of Protein Concentration by Response (Separated by Treatment Group)\")\n",
    "plt.xlabel(\"Response\")\n",
    "plt.ylabel(\"Protein Concentration\")\n",
    "plt.show()\n"
   ]
  },
  {
   "cell_type": "markdown",
   "id": "b551f31f",
   "metadata": {},
   "source": [
    "## Data Modelling(using decision tree)"
   ]
  },
  {
   "cell_type": "code",
   "execution_count": 72,
   "id": "cbe0f1da",
   "metadata": {},
   "outputs": [
    {
     "data": {
      "image/png": "[encoded data removed]",
      "text/plain": [
       "<Figure size 5400x1620 with 2 Axes>"
      ]
     },
     "metadata": {},
     "output_type": "display_data"
    }
   ],
   "source": [
    "# seaborn plotting of the target variable (Response) of clinical dataset \n",
    "fig, ax_position=plt.subplots(1,2,figsize=(20,6),dpi=270) # creates the framework for th\n",
    "a = sns.countplot(x = 'RESPONSE', data = clinical_dataset, ax=ax_position[0])\n",
    "a = clinical_dataset['RESPONSE'].value_counts().plot.pie(autopct=\"%1.1f%%\", ax=ax_position[1]) "
   ]
  },
  {
   "cell_type": "code",
   "execution_count": 73,
   "id": "1b2c7dcb",
   "metadata": {},
   "outputs": [],
   "source": [
    "from sklearn.model_selection import train_test_split # train_test_split is needed to split test and training\n",
    "from sklearn.preprocessing import MinMaxScaler # for normalisation or standardisation \n",
    "from sklearn.preprocessing import LabelEncoder\n",
    "\n",
    "\n",
    "# Convert target variable to numerical using label encoding\n",
    "label_encoder = LabelEncoder()\n",
    "clinical_dataset['RESPONSE'] = label_encoder.fit_transform(clinical_dataset['RESPONSE'])\n",
    "clinical_dataset['trt_grp'] = label_encoder.fit_transform(clinical_dataset['trt_grp'])\n",
    "clinical_dataset['sex'] = label_encoder.fit_transform(clinical_dataset['sex'])\n",
    "clinical_dataset['subject_id'] = label_encoder.fit_transform(clinical_dataset['subject_id'])"
   ]
  },
  {
   "cell_type": "code",
   "execution_count": 74,
   "id": "0cb39054",
   "metadata": {},
   "outputs": [
    {
     "data": {
      "text/html": [
       "<div>\n",
       "<style scoped>\n",
       "    .dataframe tbody tr th:only-of-type {\n",
       "        vertical-align: middle;\n",
       "    }\n",
       "\n",
       "    .dataframe tbody tr th {\n",
       "        vertical-align: top;\n",
       "    }\n",
       "\n",
       "    .dataframe thead th {\n",
       "        text-align: right;\n",
       "    }\n",
       "</style>\n",
       "<table border=\"1\" class=\"dataframe\">\n",
       "  <thead>\n",
       "    <tr style=\"text-align: right;\">\n",
       "      <th></th>\n",
       "      <th>subject_id</th>\n",
       "      <th>age</th>\n",
       "      <th>sex</th>\n",
       "      <th>weight</th>\n",
       "      <th>height</th>\n",
       "      <th>trt_grp</th>\n",
       "      <th>RESPONSE</th>\n",
       "      <th>protein_concentration</th>\n",
       "      <th>BMI_subject</th>\n",
       "    </tr>\n",
       "  </thead>\n",
       "  <tbody>\n",
       "    <tr>\n",
       "      <th>0</th>\n",
       "      <td>0</td>\n",
       "      <td>46</td>\n",
       "      <td>0</td>\n",
       "      <td>84.66</td>\n",
       "      <td>1.59</td>\n",
       "      <td>1</td>\n",
       "      <td>0</td>\n",
       "      <td>148.0</td>\n",
       "      <td>33.487599</td>\n",
       "    </tr>\n",
       "    <tr>\n",
       "      <th>1</th>\n",
       "      <td>1</td>\n",
       "      <td>47</td>\n",
       "      <td>0</td>\n",
       "      <td>71.21</td>\n",
       "      <td>1.64</td>\n",
       "      <td>1</td>\n",
       "      <td>1</td>\n",
       "      <td>85.0</td>\n",
       "      <td>26.476056</td>\n",
       "    </tr>\n",
       "    <tr>\n",
       "      <th>2</th>\n",
       "      <td>2</td>\n",
       "      <td>48</td>\n",
       "      <td>0</td>\n",
       "      <td>69.85</td>\n",
       "      <td>1.73</td>\n",
       "      <td>0</td>\n",
       "      <td>0</td>\n",
       "      <td>183.0</td>\n",
       "      <td>23.338568</td>\n",
       "    </tr>\n",
       "    <tr>\n",
       "      <th>3</th>\n",
       "      <td>3</td>\n",
       "      <td>59</td>\n",
       "      <td>0</td>\n",
       "      <td>62.94</td>\n",
       "      <td>1.50</td>\n",
       "      <td>1</td>\n",
       "      <td>1</td>\n",
       "      <td>89.0</td>\n",
       "      <td>27.973333</td>\n",
       "    </tr>\n",
       "    <tr>\n",
       "      <th>4</th>\n",
       "      <td>4</td>\n",
       "      <td>59</td>\n",
       "      <td>0</td>\n",
       "      <td>113.91</td>\n",
       "      <td>1.63</td>\n",
       "      <td>0</td>\n",
       "      <td>0</td>\n",
       "      <td>137.0</td>\n",
       "      <td>42.873273</td>\n",
       "    </tr>\n",
       "  </tbody>\n",
       "</table>\n",
       "</div>"
      ],
      "text/plain": [
       "   subject_id  age  sex  weight  height  trt_grp  RESPONSE  \\\n",
       "0           0   46    0   84.66    1.59        1         0   \n",
       "1           1   47    0   71.21    1.64        1         1   \n",
       "2           2   48    0   69.85    1.73        0         0   \n",
       "3           3   59    0   62.94    1.50        1         1   \n",
       "4           4   59    0  113.91    1.63        0         0   \n",
       "\n",
       "   protein_concentration  BMI_subject  \n",
       "0                  148.0    33.487599  \n",
       "1                   85.0    26.476056  \n",
       "2                  183.0    23.338568  \n",
       "3                   89.0    27.973333  \n",
       "4                  137.0    42.873273  "
      ]
     },
     "execution_count": 74,
     "metadata": {},
     "output_type": "execute_result"
    }
   ],
   "source": [
    "clinical_dataset.head()"
   ]
  },
  {
   "cell_type": "code",
   "execution_count": 75,
   "id": "135abffe",
   "metadata": {},
   "outputs": [],
   "source": [
    "# Split data into input and output variables\n",
    "X = clinical_dataset.drop('RESPONSE', axis=1)\n",
    "y = clinical_dataset['RESPONSE']"
   ]
  },
  {
   "cell_type": "code",
   "execution_count": 76,
   "id": "c6a60f72",
   "metadata": {},
   "outputs": [],
   "source": [
    "# import SMOTE \n",
    "from imblearn.over_sampling import SMOTE\n",
    "sm = SMOTE(random_state=42, k_neighbors = 2) # The object is created\n",
    "\n",
    "# apply SMOTE to resample the dataset \n",
    "X, y = sm.fit_resample(X, y)"
   ]
  },
  {
   "cell_type": "code",
   "execution_count": 77,
   "id": "c730eed7",
   "metadata": {},
   "outputs": [
    {
     "data": {
      "image/png": "[encoded data removed]",
      "text/plain": [
       "<Figure size 1500x600 with 2 Axes>"
      ]
     },
     "metadata": {},
     "output_type": "display_data"
    }
   ],
   "source": [
    "# Plot of the dataset \n",
    "bal_clinical_dataset = pd.concat([X, y], axis = 1) # creating a dataframe for the balanced data\n",
    "fig, ax=plt.subplots(1,2,figsize=(15,6)) # creating the axis shell for subplot\n",
    "a = sns.countplot(x='RESPONSE',data=bal_clinical_dataset, ax=ax[0]) # assigning each of the plot to th\n",
    "a= bal_clinical_dataset['RESPONSE'].value_counts().plot.pie(autopct=\"%1.1f%%\", ax=ax[1]) # assigning e"
   ]
  },
  {
   "cell_type": "code",
   "execution_count": 78,
   "id": "609d4799",
   "metadata": {},
   "outputs": [],
   "source": [
    "# Split data into training and testing sets\n",
    "X_train, X_test, y_train, y_test = train_test_split(X, y, test_size=0.2, random_state=42)\n",
    "\n",
    "#scaling our dataset\n",
    "scaler = MinMaxScaler()\n",
    "X_train_scaled = scaler.fit_transform(X_train)\n",
    "X_test_scaled = scaler.transform(X_test)"
   ]
  },
  {
   "cell_type": "code",
   "execution_count": 79,
   "id": "e0c10f69",
   "metadata": {},
   "outputs": [],
   "source": [
    "# importing our libraries and classifiers\n",
    "from sklearn.tree import DecisionTreeClassifier\n",
    "from sklearn.metrics import classification_report, confusion_matrix\n",
    "from sklearn.model_selection import cross_val_score\n",
    "from sklearn.model_selection import StratifiedKFold"
   ]
  },
  {
   "cell_type": "code",
   "execution_count": 80,
   "id": "fd2ababd",
   "metadata": {},
   "outputs": [],
   "source": [
    "# Fit decision tree classifier #training process\n",
    "clf = DecisionTreeClassifier()\n",
    "\n",
    "# Define cross-validation strategy\n",
    "cv = StratifiedKFold(n_splits=5, shuffle=True, random_state=42)\n",
    "\n",
    "# Perform cross-validation\n",
    "scores = cross_val_score(clf, X, y, cv=cv)"
   ]
  },
  {
   "cell_type": "code",
   "execution_count": 81,
   "id": "e8c23dfa",
   "metadata": {},
   "outputs": [
    {
     "name": "stdout",
     "output_type": "stream",
     "text": [
      "Cross-validation scores:  [0.7183908  0.74137931 0.7183908  0.69364162 0.71676301]\n",
      "Mean score:  0.7177131087635373\n",
      "Standard deviation:  0.015108586829342682\n"
     ]
    }
   ],
   "source": [
    "# Print mean and standard deviation of scores\n",
    "print('Cross-validation scores: ', scores)\n",
    "print('Mean score: ', scores.mean())\n",
    "print('Standard deviation: ', scores.std())"
   ]
  },
  {
   "cell_type": "code",
   "execution_count": 82,
   "id": "70739f12",
   "metadata": {},
   "outputs": [
    {
     "data": {
      "text/html": [
       "<style>#sk-container-id-1 {color: black;background-color: white;}#sk-container-id-1 pre{padding: 0;}#sk-container-id-1 div.sk-toggleable {background-color: white;}#sk-container-id-1 label.sk-toggleable__label {cursor: pointer;display: block;width: 100%;margin-bottom: 0;padding: 0.3em;box-sizing: border-box;text-align: center;}#sk-container-id-1 label.sk-toggleable__label-arrow:before {content: \"▸\";float: left;margin-right: 0.25em;color: #696969;}#sk-container-id-1 label.sk-toggleable__label-arrow:hover:before {color: black;}#sk-container-id-1 div.sk-estimator:hover label.sk-toggleable__label-arrow:before {color: black;}#sk-container-id-1 div.sk-toggleable__content {max-height: 0;max-width: 0;overflow: hidden;text-align: left;background-color: #f0f8ff;}#sk-container-id-1 div.sk-toggleable__content pre {margin: 0.2em;color: black;border-radius: 0.25em;background-color: #f0f8ff;}#sk-container-id-1 input.sk-toggleable__control:checked~div.sk-toggleable__content {max-height: 200px;max-width: 100%;overflow: auto;}#sk-container-id-1 input.sk-toggleable__control:checked~label.sk-toggleable__label-arrow:before {content: \"▾\";}#sk-container-id-1 div.sk-estimator input.sk-toggleable__control:checked~label.sk-toggleable__label {background-color: #d4ebff;}#sk-container-id-1 div.sk-label input.sk-toggleable__control:checked~label.sk-toggleable__label {background-color: #d4ebff;}#sk-container-id-1 input.sk-hidden--visually {border: 0;clip: rect(1px 1px 1px 1px);clip: rect(1px, 1px, 1px, 1px);height: 1px;margin: -1px;overflow: hidden;padding: 0;position: absolute;width: 1px;}#sk-container-id-1 div.sk-estimator {font-family: monospace;background-color: #f0f8ff;border: 1px dotted black;border-radius: 0.25em;box-sizing: border-box;margin-bottom: 0.5em;}#sk-container-id-1 div.sk-estimator:hover {background-color: #d4ebff;}#sk-container-id-1 div.sk-parallel-item::after {content: \"\";width: 100%;border-bottom: 1px solid gray;flex-grow: 1;}#sk-container-id-1 div.sk-label:hover label.sk-toggleable__label {background-color: #d4ebff;}#sk-container-id-1 div.sk-serial::before {content: \"\";position: absolute;border-left: 1px solid gray;box-sizing: border-box;top: 0;bottom: 0;left: 50%;z-index: 0;}#sk-container-id-1 div.sk-serial {display: flex;flex-direction: column;align-items: center;background-color: white;padding-right: 0.2em;padding-left: 0.2em;position: relative;}#sk-container-id-1 div.sk-item {position: relative;z-index: 1;}#sk-container-id-1 div.sk-parallel {display: flex;align-items: stretch;justify-content: center;background-color: white;position: relative;}#sk-container-id-1 div.sk-item::before, #sk-container-id-1 div.sk-parallel-item::before {content: \"\";position: absolute;border-left: 1px solid gray;box-sizing: border-box;top: 0;bottom: 0;left: 50%;z-index: -1;}#sk-container-id-1 div.sk-parallel-item {display: flex;flex-direction: column;z-index: 1;position: relative;background-color: white;}#sk-container-id-1 div.sk-parallel-item:first-child::after {align-self: flex-end;width: 50%;}#sk-container-id-1 div.sk-parallel-item:last-child::after {align-self: flex-start;width: 50%;}#sk-container-id-1 div.sk-parallel-item:only-child::after {width: 0;}#sk-container-id-1 div.sk-dashed-wrapped {border: 1px dashed gray;margin: 0 0.4em 0.5em 0.4em;box-sizing: border-box;padding-bottom: 0.4em;background-color: white;}#sk-container-id-1 div.sk-label label {font-family: monospace;font-weight: bold;display: inline-block;line-height: 1.2em;}#sk-container-id-1 div.sk-label-container {text-align: center;}#sk-container-id-1 div.sk-container {/* jupyter's `normalize.less` sets `[hidden] { display: none; }` but bootstrap.min.css set `[hidden] { display: none !important; }` so we also need the `!important` here to be able to override the default hidden behavior on the sphinx rendered scikit-learn.org. See: https://github.com/scikit-learn/scikit-learn/issues/21755 */display: inline-block !important;position: relative;}#sk-container-id-1 div.sk-text-repr-fallback {display: none;}</style><div id=\"sk-container-id-1\" class=\"sk-top-container\"><div class=\"sk-text-repr-fallback\"><pre>DecisionTreeClassifier()</pre><b>In a Jupyter environment, please rerun this cell to show the HTML representation or trust the notebook. <br />On GitHub, the HTML representation is unable to render, please try loading this page with nbviewer.org.</b></div><div class=\"sk-container\" hidden><div class=\"sk-item\"><div class=\"sk-estimator sk-toggleable\"><input class=\"sk-toggleable__control sk-hidden--visually\" id=\"sk-estimator-id-1\" type=\"checkbox\" checked><label for=\"sk-estimator-id-1\" class=\"sk-toggleable__label sk-toggleable__label-arrow\">DecisionTreeClassifier</label><div class=\"sk-toggleable__content\"><pre>DecisionTreeClassifier()</pre></div></div></div></div></div>"
      ],
      "text/plain": [
       "DecisionTreeClassifier()"
      ]
     },
     "execution_count": 82,
     "metadata": {},
     "output_type": "execute_result"
    }
   ],
   "source": [
    "clf.fit(X_train, y_train)"
   ]
  },
  {
   "cell_type": "code",
   "execution_count": 83,
   "id": "2cdb5796",
   "metadata": {},
   "outputs": [
    {
     "name": "stdout",
     "output_type": "stream",
     "text": [
      "Classification Report:\n",
      "              precision    recall  f1-score   support\n",
      "\n",
      "           0       0.94      0.93      0.94       434\n",
      "           1       0.93      0.94      0.94       434\n",
      "\n",
      "    accuracy                           0.94       868\n",
      "   macro avg       0.94      0.94      0.94       868\n",
      "weighted avg       0.94      0.94      0.94       868\n",
      "\n"
     ]
    }
   ],
   "source": [
    "# Make predictions on testing data\n",
    "y_pred = clf.predict(X)\n",
    "\n",
    "# Print classification report\n",
    "print('Classification Report:')\n",
    "print(classification_report(y, y_pred))\n"
   ]
  },
  {
   "cell_type": "code",
   "execution_count": 84,
   "id": "8b3b4df8",
   "metadata": {},
   "outputs": [
    {
     "name": "stdout",
     "output_type": "stream",
     "text": [
      "Confusion Matrix:\n",
      "[[405  29]\n",
      " [ 24 410]]\n"
     ]
    }
   ],
   "source": [
    "# Print confusion matrix\n",
    "print('Confusion Matrix:')\n",
    "print(confusion_matrix(y, y_pred))"
   ]
  },
  {
   "cell_type": "markdown",
   "id": "4a9a39c0",
   "metadata": {},
   "source": [
    "the confusion matrix above shows the number of correctly classified enteries for each class from genre 0 to 1 which corresponds to the total number of Responses (Y OR N). from the first row starting form the left we see 403 enteries have been correctly classified for Response 0 which is \"N\" or non-responders and we see 31 entries wrongly classified. For next column we see 27 enteries wrong classified as Response 1 and 407 entries correctly classified as Responders or \"Y\" . the precision score of this model is in the 93% which shows promise with some tuning and more data to further test the model it can be used to correctly predict response.\n",
    "\n",
    "overall the model performed well in classifying the dataset."
   ]
  }
 ],
 "metadata": {
  "kernelspec": {
   "display_name": "Python 3 (ipykernel)",
   "language": "python",
   "name": "python3"
  },
  "language_info": {
   "codemirror_mode": {
    "name": "ipython",
    "version": 3
   },
   "file_extension": ".py",
   "mimetype": "text/x-python",
   "name": "python",
   "nbconvert_exporter": "python",
   "pygments_lexer": "ipython3",
   "version": "3.10.9"
  }
 },
 "nbformat": 4,
 "nbformat_minor": 5
}
